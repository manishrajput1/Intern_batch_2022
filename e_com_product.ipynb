{
 "cells": [
  {
   "cell_type": "markdown",
   "id": "96ddc192",
   "metadata": {},
   "source": [
    "                     Signup\n",
    "                     login"
   ]
  },
  {
   "cell_type": "code",
   "execution_count": 1,
   "id": "a481fc88",
   "metadata": {},
   "outputs": [],
   "source": [
    "d={1001:{'name':'rmanish','pass':'mann@123','email':'rmanish911@gmail.com','purchase':0},\n",
    "  1002:{'name':'shan','pass':'shan@123','email':'rmanish911@gmail.com','purchase':0}}"
   ]
  },
  {
   "cell_type": "code",
   "execution_count": 36,
   "id": "ba3f193f",
   "metadata": {},
   "outputs": [],
   "source": [
    "products={1:{'name':'earphone','price':500},\n",
    "         2:{'name':'neckband','price':1500},\n",
    "         3:{'name':'headphone','price':5000},\n",
    "         4:{'name':'earbuds','price':4000},\n",
    "         5:{'name':'power bank','price':2000}}"
   ]
  },
  {
   "cell_type": "code",
   "execution_count": 18,
   "id": "bfb43e86",
   "metadata": {},
   "outputs": [],
   "source": [
    "import sys\n",
    "import time\n",
    "import random\n",
    "from getpass import getpass\n",
    "import smtplib\n",
    "def main():\n",
    "    print('1. Signup \\t 2. Login \\t 3. Exit')\n",
    "    usr=int(input('Enter your choice: '))\n",
    "    if usr==1:\n",
    "        Signup()\n",
    "    elif usr==2:\n",
    "        Login()\n",
    "    elif usr==3:\n",
    "        sys.exit()"
   ]
  },
  {
   "cell_type": "code",
   "execution_count": 23,
   "id": "f83f3ac9",
   "metadata": {},
   "outputs": [],
   "source": [
    "def Signup():\n",
    "    usrname=input('Enter username: ')\n",
    "    pas=getpass('Enter your pass')\n",
    "    purchase=0\n",
    "    email=input('Enter email :')\n",
    "    otp=''\n",
    "    for i in range(4):\n",
    "        otp=otp+str(random.randint(0,9))\n",
    "    con=smtplib.SMTP('smtp.gmail.com',587)\n",
    "    con.starttls()\n",
    "    con.login('bankapplication7@gmail.com','Bankapp@')\n",
    "    con.sendmail('bankapplication7@gmail.com',email,f\"Subject: OTP \\n\\n {otp}\")\n",
    "    ot=input('Enter your otp: ')\n",
    "    if ot==otp:\n",
    "        ids=list(d.keys())[-1]+1\n",
    "        d[ids]={'name':usrname,'pass':pas,'email':email,'purchase':purchase}\n",
    "        print('your account created....')\n",
    "        print()\n",
    "        print('your user id :',ids)\n",
    "    else:\n",
    "        print('Invalid otp')"
   ]
  },
  {
   "cell_type": "code",
   "execution_count": 53,
   "id": "713fe08d",
   "metadata": {},
   "outputs": [],
   "source": [
    "def Login():\n",
    "    usrid=int(input('Enter your userid: '))\n",
    "    if usrid in d.keys():\n",
    "        pas=getpass('enter password: ')\n",
    "        if d[usrid]['pass']==pas:\n",
    "            print('login successfully')\n",
    "            print(\"Sr.No \\t productName \\t ProductPrice\")\n",
    "            for item in products.items():\n",
    "                \n",
    "                print(f\"{item[0]} \\t {item[1]['name']} \\t {item[1]['price']}\")\n",
    "            \n",
    "        else:\n",
    "            print('invalid username or password')\n",
    "    else:\n",
    "        print('no result found ...first go to signup...')"
   ]
  },
  {
   "cell_type": "code",
   "execution_count": 54,
   "id": "7b3a4aa7",
   "metadata": {},
   "outputs": [
    {
     "name": "stdout",
     "output_type": "stream",
     "text": [
      "1. Signup \t 2. Login \t 3. Exit\n",
      "Enter your choice: 2\n",
      "Enter your userid: 1004\n",
      "enter password: ········\n",
      "login successfully\n",
      "Sr.No \t productName \t ProductPrice\n",
      "1 \t earphone \t 500\n",
      "2 \t neckband \t 1500\n",
      "3 \t headphone \t 5000\n",
      "4 \t earbuds \t 4000\n",
      "5 \t power bank \t 2000\n"
     ]
    }
   ],
   "source": [
    "main()"
   ]
  },
  {
   "cell_type": "code",
   "execution_count": 12,
   "id": "be299306",
   "metadata": {},
   "outputs": [
    {
     "data": {
      "text/plain": [
       "1003"
      ]
     },
     "execution_count": 12,
     "metadata": {},
     "output_type": "execute_result"
    }
   ],
   "source": [
    "list(d.keys())[-1]+1"
   ]
  },
  {
   "cell_type": "code",
   "execution_count": 13,
   "id": "8be87c46",
   "metadata": {},
   "outputs": [
    {
     "data": {
      "text/plain": [
       "{'name': 'rmanish',\n",
       " 'pass': 'mann@123',\n",
       " 'email': 'rmanish911@gmail.com',\n",
       " 'purchase': 0}"
      ]
     },
     "execution_count": 13,
     "metadata": {},
     "output_type": "execute_result"
    }
   ],
   "source": [
    "d[1001]"
   ]
  },
  {
   "cell_type": "code",
   "execution_count": 25,
   "id": "394aeb66",
   "metadata": {},
   "outputs": [
    {
     "data": {
      "text/plain": [
       "{1001: {'name': 'rmanish',\n",
       "  'pass': 'mann@123',\n",
       "  'email': 'rmanish911@gmail.com',\n",
       "  'purchase': 0},\n",
       " 1002: {'name': 'shan',\n",
       "  'pass': 'shan@123',\n",
       "  'email': 'rmanish911@gmail.com',\n",
       "  'purchase': 0},\n",
       " 1003: {'name': 'prince',\n",
       "  'pass': 'prince123',\n",
       "  'email': 'rmanish911@gmail.com',\n",
       "  'purchase': 0}}"
      ]
     },
     "execution_count": 25,
     "metadata": {},
     "output_type": "execute_result"
    }
   ],
   "source": [
    "d"
   ]
  },
  {
   "cell_type": "code",
   "execution_count": 26,
   "id": "c5080d75",
   "metadata": {},
   "outputs": [
    {
     "name": "stdout",
     "output_type": "stream",
     "text": [
      "1. Signup \t 2. Login \t 3. Exit\n",
      "Enter your choice: 1\n",
      "Enter username: jayshree\n",
      "Enter your pass········\n",
      "Enter email :rmanish911@gmail.com\n",
      "Enter your otp: 9538\n",
      "your account created....\n",
      "\n",
      "your user id : 1004\n"
     ]
    }
   ],
   "source": [
    "main()"
   ]
  },
  {
   "cell_type": "code",
   "execution_count": 27,
   "id": "d461dfeb",
   "metadata": {},
   "outputs": [
    {
     "data": {
      "text/plain": [
       "{1001: {'name': 'rmanish',\n",
       "  'pass': 'mann@123',\n",
       "  'email': 'rmanish911@gmail.com',\n",
       "  'purchase': 0},\n",
       " 1002: {'name': 'shan',\n",
       "  'pass': 'shan@123',\n",
       "  'email': 'rmanish911@gmail.com',\n",
       "  'purchase': 0},\n",
       " 1003: {'name': 'prince',\n",
       "  'pass': 'prince123',\n",
       "  'email': 'rmanish911@gmail.com',\n",
       "  'purchase': 0},\n",
       " 1004: {'name': 'jayshree',\n",
       "  'pass': 'jay@123',\n",
       "  'email': 'rmanish911@gmail.com',\n",
       "  'purchase': 0}}"
      ]
     },
     "execution_count": 27,
     "metadata": {},
     "output_type": "execute_result"
    }
   ],
   "source": [
    "d"
   ]
  },
  {
   "cell_type": "code",
   "execution_count": 28,
   "id": "32ee9256",
   "metadata": {},
   "outputs": [
    {
     "data": {
      "text/plain": [
       "dict_keys([1001, 1002, 1003, 1004])"
      ]
     },
     "execution_count": 28,
     "metadata": {},
     "output_type": "execute_result"
    }
   ],
   "source": [
    "d.keys()"
   ]
  },
  {
   "cell_type": "code",
   "execution_count": 30,
   "id": "247bca79",
   "metadata": {},
   "outputs": [
    {
     "data": {
      "text/plain": [
       "'prince123'"
      ]
     },
     "execution_count": 30,
     "metadata": {},
     "output_type": "execute_result"
    }
   ],
   "source": [
    "d[1003]['pass']"
   ]
  },
  {
   "cell_type": "code",
   "execution_count": 34,
   "id": "3d2e7319",
   "metadata": {},
   "outputs": [],
   "source": []
  },
  {
   "cell_type": "code",
   "execution_count": 35,
   "id": "09d1764f",
   "metadata": {},
   "outputs": [
    {
     "data": {
      "text/plain": [
       "{1: {'name': 'earphone', 'price': 500},\n",
       " 2: {'name': 'neckband', 'price': 1500},\n",
       " 3: {'name': 'headphone', 'price': 5000},\n",
       " 4: {'name': 'earbuds', 'price': 4000},\n",
       " 5: {'name': 'power bank', 'price': 2000}}"
      ]
     },
     "execution_count": 35,
     "metadata": {},
     "output_type": "execute_result"
    }
   ],
   "source": [
    "products"
   ]
  },
  {
   "cell_type": "code",
   "execution_count": 48,
   "id": "8debac7a",
   "metadata": {},
   "outputs": [
    {
     "name": "stdout",
     "output_type": "stream",
     "text": [
      "500\n",
      "1500\n",
      "5000\n",
      "4000\n",
      "2000\n"
     ]
    }
   ],
   "source": [
    "for item in products.items():\n",
    "    print(item[1]['price'])"
   ]
  },
  {
   "cell_type": "code",
   "execution_count": null,
   "id": "15ab15e2",
   "metadata": {},
   "outputs": [],
   "source": []
  }
 ],
 "metadata": {
  "kernelspec": {
   "display_name": "Python 3",
   "language": "python",
   "name": "python3"
  },
  "language_info": {
   "codemirror_mode": {
    "name": "ipython",
    "version": 3
   },
   "file_extension": ".py",
   "mimetype": "text/x-python",
   "name": "python",
   "nbconvert_exporter": "python",
   "pygments_lexer": "ipython3",
   "version": "3.6.4"
  }
 },
 "nbformat": 4,
 "nbformat_minor": 5
}
