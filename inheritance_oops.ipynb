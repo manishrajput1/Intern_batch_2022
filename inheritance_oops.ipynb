{
 "cells": [
  {
   "cell_type": "markdown",
   "id": "6d2f6596",
   "metadata": {},
   "source": [
    "# Inheritance"
   ]
  },
  {
   "cell_type": "code",
   "execution_count": 1,
   "id": "f944223f",
   "metadata": {},
   "outputs": [],
   "source": [
    "class p1:\n",
    "    def parent1(self):\n",
    "        return 'hello i am parent1'\n",
    "class p2:\n",
    "    def parent2(self):\n",
    "        return 'hello i am parent2'\n",
    "class p3:\n",
    "    def parent3(self):\n",
    "        return 'hello i am parent3'\n",
    "class ch(p1,p2,p3):\n",
    "    def child(self):\n",
    "        return 'hello i am child'"
   ]
  },
  {
   "cell_type": "code",
   "execution_count": 2,
   "id": "52f546b5",
   "metadata": {},
   "outputs": [],
   "source": [
    "obj=ch()"
   ]
  },
  {
   "cell_type": "code",
   "execution_count": 3,
   "id": "4c9409a1",
   "metadata": {},
   "outputs": [
    {
     "name": "stdout",
     "output_type": "stream",
     "text": [
      "['__class__', '__delattr__', '__dict__', '__dir__', '__doc__', '__eq__', '__format__', '__ge__', '__getattribute__', '__gt__', '__hash__', '__init__', '__init_subclass__', '__le__', '__lt__', '__module__', '__ne__', '__new__', '__reduce__', '__reduce_ex__', '__repr__', '__setattr__', '__sizeof__', '__str__', '__subclasshook__', '__weakref__', 'child', 'parent1', 'parent2', 'parent3']\n"
     ]
    }
   ],
   "source": [
    "print(dir(obj))"
   ]
  },
  {
   "cell_type": "code",
   "execution_count": 4,
   "id": "33918271",
   "metadata": {},
   "outputs": [
    {
     "data": {
      "text/plain": [
       "'hello i am parent1'"
      ]
     },
     "execution_count": 4,
     "metadata": {},
     "output_type": "execute_result"
    }
   ],
   "source": [
    "obj.parent1()"
   ]
  },
  {
   "cell_type": "code",
   "execution_count": 5,
   "id": "10793221",
   "metadata": {},
   "outputs": [
    {
     "data": {
      "text/plain": [
       "'hello i am parent2'"
      ]
     },
     "execution_count": 5,
     "metadata": {},
     "output_type": "execute_result"
    }
   ],
   "source": [
    "obj.parent2()"
   ]
  },
  {
   "cell_type": "code",
   "execution_count": 6,
   "id": "1be3c143",
   "metadata": {},
   "outputs": [
    {
     "data": {
      "text/plain": [
       "'hello i am parent3'"
      ]
     },
     "execution_count": 6,
     "metadata": {},
     "output_type": "execute_result"
    }
   ],
   "source": [
    "obj.parent3()"
   ]
  },
  {
   "cell_type": "code",
   "execution_count": 7,
   "id": "60320244",
   "metadata": {},
   "outputs": [
    {
     "data": {
      "text/plain": [
       "'hello i am child'"
      ]
     },
     "execution_count": 7,
     "metadata": {},
     "output_type": "execute_result"
    }
   ],
   "source": [
    "obj.child()"
   ]
  },
  {
   "cell_type": "code",
   "execution_count": 14,
   "id": "a3ba67f2",
   "metadata": {},
   "outputs": [],
   "source": [
    "class parent1:\n",
    "    def show(self):\n",
    "        return 'hello i am parent1 method'\n",
    "class parent2:\n",
    "    def show(self):\n",
    "        return 'hello i am parent2 method'\n",
    "class child(parent1,parent2):   # MRO  (left to right)\n",
    "    def disp(self):\n",
    "        return 'hello i am child class'"
   ]
  },
  {
   "cell_type": "code",
   "execution_count": 15,
   "id": "f1970746",
   "metadata": {},
   "outputs": [],
   "source": [
    "ob=child()"
   ]
  },
  {
   "cell_type": "code",
   "execution_count": 16,
   "id": "d844c950",
   "metadata": {},
   "outputs": [
    {
     "data": {
      "text/plain": [
       "'hello i am parent1 method'"
      ]
     },
     "execution_count": 16,
     "metadata": {},
     "output_type": "execute_result"
    }
   ],
   "source": [
    "ob.show()"
   ]
  },
  {
   "cell_type": "code",
   "execution_count": 20,
   "id": "a3799c01",
   "metadata": {},
   "outputs": [],
   "source": [
    "class gp:\n",
    "    def get(self):\n",
    "        return 'hello i am gp'\n",
    "class p(gp):\n",
    "    def parent(self):\n",
    "        return 'hello i am parent'\n",
    "class child(p):\n",
    "    def ch(self):\n",
    "        return 'hello i am child'"
   ]
  },
  {
   "cell_type": "code",
   "execution_count": 21,
   "id": "cc16a167",
   "metadata": {},
   "outputs": [],
   "source": [
    "ob=child()"
   ]
  },
  {
   "cell_type": "code",
   "execution_count": 22,
   "id": "3abc5553",
   "metadata": {},
   "outputs": [
    {
     "name": "stdout",
     "output_type": "stream",
     "text": [
      "['__class__', '__delattr__', '__dict__', '__dir__', '__doc__', '__eq__', '__format__', '__ge__', '__getattribute__', '__gt__', '__hash__', '__init__', '__init_subclass__', '__le__', '__lt__', '__module__', '__ne__', '__new__', '__reduce__', '__reduce_ex__', '__repr__', '__setattr__', '__sizeof__', '__str__', '__subclasshook__', '__weakref__', 'ch', 'get', 'parent']\n"
     ]
    }
   ],
   "source": [
    "print(dir(ob))"
   ]
  },
  {
   "cell_type": "code",
   "execution_count": 23,
   "id": "d8ca9c46",
   "metadata": {},
   "outputs": [
    {
     "data": {
      "text/plain": [
       "'hello i am gp'"
      ]
     },
     "execution_count": 23,
     "metadata": {},
     "output_type": "execute_result"
    }
   ],
   "source": [
    "ob.get()"
   ]
  },
  {
   "cell_type": "code",
   "execution_count": 24,
   "id": "3c4c5835",
   "metadata": {},
   "outputs": [
    {
     "data": {
      "text/plain": [
       "'hello i am parent'"
      ]
     },
     "execution_count": 24,
     "metadata": {},
     "output_type": "execute_result"
    }
   ],
   "source": [
    "ob.parent()"
   ]
  },
  {
   "cell_type": "code",
   "execution_count": 25,
   "id": "783f552f",
   "metadata": {},
   "outputs": [
    {
     "data": {
      "text/plain": [
       "'hello i am child'"
      ]
     },
     "execution_count": 25,
     "metadata": {},
     "output_type": "execute_result"
    }
   ],
   "source": [
    "ob.ch()"
   ]
  },
  {
   "cell_type": "code",
   "execution_count": 28,
   "id": "578b561c",
   "metadata": {},
   "outputs": [],
   "source": [
    "class mark_org:\n",
    "    def show(self):\n",
    "        return 'hello i have a main project'\n",
    "class whatsapp(mark_org):\n",
    "    def disp(self):\n",
    "        return 'hello i am whatsapp'\n",
    "class facebook(mark_org):\n",
    "    def show_fece(self):\n",
    "        return 'hello i  am facebook'\n",
    "class whatsapp_update(whatsapp):\n",
    "    def show_whats_update(self):\n",
    "        return 'hello i am whatsapp update'\n",
    "class facebook_update(facebook):\n",
    "    def show_face_update(self):\n",
    "        return 'hello i am facebook  update'"
   ]
  },
  {
   "cell_type": "code",
   "execution_count": 32,
   "id": "37a134da",
   "metadata": {},
   "outputs": [],
   "source": [
    "whats=whatsapp_update()"
   ]
  },
  {
   "cell_type": "code",
   "execution_count": 35,
   "id": "7947d44f",
   "metadata": {},
   "outputs": [],
   "source": [
    "face=facebook_update()"
   ]
  },
  {
   "cell_type": "code",
   "execution_count": 34,
   "id": "7ddc3d27",
   "metadata": {},
   "outputs": [
    {
     "data": {
      "text/plain": [
       "'hello i am whatsapp update'"
      ]
     },
     "execution_count": 34,
     "metadata": {},
     "output_type": "execute_result"
    }
   ],
   "source": [
    "whats.show_whats_update()"
   ]
  },
  {
   "cell_type": "code",
   "execution_count": 36,
   "id": "a8b23dfd",
   "metadata": {},
   "outputs": [
    {
     "data": {
      "text/plain": [
       "'hello i am facebook  update'"
      ]
     },
     "execution_count": 36,
     "metadata": {},
     "output_type": "execute_result"
    }
   ],
   "source": [
    "face.show_face_update()"
   ]
  },
  {
   "cell_type": "code",
   "execution_count": null,
   "id": "dd5a1746",
   "metadata": {},
   "outputs": [],
   "source": []
  }
 ],
 "metadata": {
  "kernelspec": {
   "display_name": "Python 3",
   "language": "python",
   "name": "python3"
  },
  "language_info": {
   "codemirror_mode": {
    "name": "ipython",
    "version": 3
   },
   "file_extension": ".py",
   "mimetype": "text/x-python",
   "name": "python",
   "nbconvert_exporter": "python",
   "pygments_lexer": "ipython3",
   "version": "3.6.4"
  }
 },
 "nbformat": 4,
 "nbformat_minor": 5
}
