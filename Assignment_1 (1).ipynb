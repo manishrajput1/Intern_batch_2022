{
 "cells": [
  {
   "cell_type": "code",
   "execution_count": 6,
   "id": "dd2f2470",
   "metadata": {
    "ExecuteTime": {
     "end_time": "2021-08-27T01:33:22.885488Z",
     "start_time": "2021-08-27T01:33:20.184190Z"
    }
   },
   "outputs": [
    {
     "name": "stdout",
     "output_type": "stream",
     "text": [
      "entre a number :26\n",
      "Not Weird\n"
     ]
    }
   ],
   "source": [
    "# weird and not weird\n",
    "\n",
    "n = int(input(\"entre a number :\"))\n",
    "if n % 2:\n",
    "    print(\"Weird\")\n",
    "elif n in range(2, 6) or n >= 20:\n",
    "    print(\"Not Weird\")\n",
    "elif n in range(6, 21):\n",
    "    print(\"Weird\")"
   ]
  },
  {
   "cell_type": "code",
   "execution_count": 9,
   "id": "6e51fe42",
   "metadata": {
    "ExecuteTime": {
     "end_time": "2021-08-27T01:35:04.926900Z",
     "start_time": "2021-08-27T01:35:03.532678Z"
    }
   },
   "outputs": [
    {
     "name": "stdout",
     "output_type": "stream",
     "text": [
      "Entre a number: 5\n",
      "Entre b number: 5\n",
      "Both are equal\n"
     ]
    }
   ],
   "source": [
    "# Max between 2 numbers\n",
    "\n",
    "a = eval(input(\"Entre a number: \"))\n",
    "b = eval(input(\"Entre b number: \"))\n",
    "\n",
    "if a > b:\n",
    "    print(\"a is max\")\n",
    "elif b > a:\n",
    "    print(\"b is max\")\n",
    "else:\n",
    "    print(\"Both are equal\")"
   ]
  },
  {
   "cell_type": "code",
   "execution_count": 11,
   "id": "23db96fc",
   "metadata": {
    "ExecuteTime": {
     "end_time": "2021-08-27T01:36:43.506634Z",
     "start_time": "2021-08-27T01:36:38.998865Z"
    }
   },
   "outputs": [
    {
     "name": "stdout",
     "output_type": "stream",
     "text": [
      "entre a number: 4\n",
      "Entre b number: 3\n",
      "Entre c number: 2\n",
      "a is max\n"
     ]
    }
   ],
   "source": [
    "# MAx between 3 numbers\n",
    "\n",
    "a = eval(input(\"entre a number: \"))\n",
    "b = eval(input(\"Entre b number: \"))\n",
    "c = eval(input(\"Entre c number: \"))\n",
    "\n",
    "if a > b and a > c:\n",
    "    print(\"a is max\")\n",
    "elif b > c and b > a:\n",
    "    print(\"b is max\")\n",
    "else:\n",
    "    print(\"c is max\")"
   ]
  },
  {
   "cell_type": "code",
   "execution_count": 1,
   "id": "e829406d",
   "metadata": {
    "ExecuteTime": {
     "end_time": "2021-08-27T01:37:48.008301Z",
     "start_time": "2021-08-27T01:37:44.373641Z"
    }
   },
   "outputs": [
    {
     "name": "stdout",
     "output_type": "stream",
     "text": [
      "entre a number: -2\n",
      "Negative number\n"
     ]
    }
   ],
   "source": [
    "# check positive negative or  zero\n",
    "\n",
    "a = eval(input(\"entre a number: \"))\n",
    "if a > 0:\n",
    "    print(\"Positive number\")\n",
    "elif a < 0:\n",
    "    print(\"Negative number\")\n",
    "else:\n",
    "    print(\"Zero\")"
   ]
  },
  {
   "cell_type": "code",
   "execution_count": 4,
   "id": "fd11464d",
   "metadata": {
    "ExecuteTime": {
     "end_time": "2021-08-27T01:38:22.480519Z",
     "start_time": "2021-08-27T01:38:20.725634Z"
    }
   },
   "outputs": [
    {
     "name": "stdout",
     "output_type": "stream",
     "text": [
      "entre a number: 55\n",
      "Divisible\n"
     ]
    }
   ],
   "source": [
    "# divisible by 5 and 11\n",
    "\n",
    "a = eval(input(\"entre a number: \"))\n",
    "if a % 5 == 0 and a % 11 == 0:\n",
    "    print(\"Divisible\")\n",
    "else:\n",
    "    print(\"Not divisible\")"
   ]
  },
  {
   "cell_type": "code",
   "execution_count": 7,
   "id": "8207be1e",
   "metadata": {
    "ExecuteTime": {
     "end_time": "2021-08-27T01:38:39.112437Z",
     "start_time": "2021-08-27T01:38:37.794988Z"
    }
   },
   "outputs": [
    {
     "name": "stdout",
     "output_type": "stream",
     "text": [
      "entre a number: 6\n",
      "6 ia a even number\n"
     ]
    }
   ],
   "source": [
    "## even or odd\n",
    "\n",
    "a = eval(input(\"entre a number: \"))\n",
    "\n",
    "if a % 2:\n",
    "    print(f\"{a} is a odd number\")\n",
    "else:\n",
    "    print(f\"{a} ia a even number\")"
   ]
  },
  {
   "cell_type": "code",
   "execution_count": 5,
   "id": "e5f9a633",
   "metadata": {
    "ExecuteTime": {
     "end_time": "2021-08-27T01:42:00.867583Z",
     "start_time": "2021-08-27T01:41:58.876135Z"
    }
   },
   "outputs": [
    {
     "name": "stdout",
     "output_type": "stream",
     "text": [
      "Enter a Year : 2019\n",
      "Leap Year\n"
     ]
    }
   ],
   "source": [
    "# Leap year\n",
    "\n",
    "n = int(input(\"Enter a Year : \")) \n",
    "#\n",
    "if n%4 and n%100 and n%400:\n",
    "    print(\"Leap Year\")\n",
    "elif n%400: # means false hai century year! =0\n",
    "    print(\"Not a leap year\")\n",
    "else:\n",
    "    print(\"Leap Year\")"
   ]
  },
  {
   "cell_type": "code",
   "execution_count": 16,
   "id": "2eaabffd",
   "metadata": {
    "ExecuteTime": {
     "end_time": "2021-08-27T01:44:48.553487Z",
     "start_time": "2021-08-27T01:44:47.614765Z"
    }
   },
   "outputs": [
    {
     "name": "stdout",
     "output_type": "stream",
     "text": [
      "entre a alphabet:4\n",
      "Not a character\n"
     ]
    }
   ],
   "source": [
    "# character or not\n",
    "\n",
    "n = str(input(\"entre a alphabet:\" \"\"))\n",
    "\n",
    "if len(n) == 1 and  n.isalpha():\n",
    "    print(\"Its a character\")\n",
    "else:\n",
    "    print(\"Not a character\")\n"
   ]
  },
  {
   "cell_type": "code",
   "execution_count": 3,
   "id": "14022cd8",
   "metadata": {
    "ExecuteTime": {
     "end_time": "2021-08-27T01:45:41.546914Z",
     "start_time": "2021-08-27T01:45:38.185115Z"
    }
   },
   "outputs": [
    {
     "name": "stdout",
     "output_type": "stream",
     "text": [
      "entre a character : o\n",
      "It's a vowel: o\n"
     ]
    }
   ],
   "source": [
    "## Vowel or consonant\n",
    "\n",
    "a = ['a', 'e', 'i', 'o', 'u']\n",
    "n = input(\"entre a character : \")\n",
    "\n",
    "if n in a:\n",
    "    print(f\"It's a vowel: {n}\")\n",
    "else:\n",
    "    print(\"Not a vowel\")"
   ]
  },
  {
   "cell_type": "code",
   "execution_count": 4,
   "id": "b2e9922c",
   "metadata": {},
   "outputs": [
    {
     "name": "stdout",
     "output_type": "stream",
     "text": [
      "Entre n: 4\n",
      "It's a digit 4\n"
     ]
    }
   ],
   "source": [
    "# alphabet digit or special character\n",
    "\n",
    "n = str(input(\"Entre n: \"))\n",
    "\n",
    "if n.isalpha() == True:  # or n.isdigit():\n",
    "    print(f\"It's a alphabet {n}\")\n",
    "elif n.isdigit() == True:\n",
    "    print(f\"It's a digit {n}\")\n",
    "else:\n",
    "    print(f\"It's a special character {n}\")"
   ]
  },
  {
   "cell_type": "code",
   "execution_count": 59,
   "id": "a2f8112f",
   "metadata": {},
   "outputs": [
    {
     "name": "stdout",
     "output_type": "stream",
     "text": [
      "Enter n: HGFD\n",
      "Its a uppercase\n"
     ]
    }
   ],
   "source": [
    "## Uppercase or Lowercase\n",
    "\n",
    "n = str(input(\"Enter n: \"))\n",
    "\n",
    "if n.islower():\n",
    "    print(\"Its a lower case\")\n",
    "else:\n",
    "    print(\"Its a uppercase\")"
   ]
  },
  {
   "cell_type": "code",
   "execution_count": 85,
   "id": "ff808835",
   "metadata": {},
   "outputs": [
    {
     "name": "stdout",
     "output_type": "stream",
     "text": [
      "Entre a number in betweek 1 - 7 \n",
      "3\n",
      "Wed\n"
     ]
    }
   ],
   "source": [
    "# input week number and print week day\n",
    "\n",
    "w = {1: ('Mon'), 2: 'Tues', 3: 'Wed', 4: 'Thurs', 5: 'Fri', 6: 'sat', 7: 'Sun'}\n",
    "n = int(input(\"Entre a number in betweek 1 - 7 \\n\"))\n",
    "\n",
    "if n <= 7:\n",
    "    print(w.get(n))\n",
    "else:\n",
    "    print(\"Invalid week day\")"
   ]
  },
  {
   "cell_type": "code",
   "execution_count": 93,
   "id": "4090cfd6",
   "metadata": {},
   "outputs": [
    {
     "name": "stdout",
     "output_type": "stream",
     "text": [
      "Entre a number in betweek 1 - 12 \n",
      "4\n",
      "April\n",
      "30 days\n"
     ]
    }
   ],
   "source": [
    "# Month number\n",
    "\n",
    "w = {\n",
    "    1: ('Jan'),\n",
    "    2: 'Feb',\n",
    "    3: 'Mar',\n",
    "    4: 'April',\n",
    "    5: 'May',\n",
    "    6: 'June',\n",
    "    7: 'July',\n",
    "    8: 'Aug',\n",
    "    9: 'Sept',\n",
    "    10: 'Oct',\n",
    "    11: 'Nov',\n",
    "    12: 'Dec'\n",
    "}\n",
    "n = int(input(\"Entre a number in betweek 1 - 12 \\n\"))\n",
    "\n",
    "if n <= 12:\n",
    "    print(w.get(n))\n",
    "else:\n",
    "    print(\"Invalid month number\")\n",
    "\n",
    "# Number of days\n",
    "d = [1, 3, 5, 7, 8, 10, 12]\n",
    "if n in d:\n",
    "    print(\"31 days in a month\")\n",
    "elif n == 2:\n",
    "    print(\"28 or 29 days\")\n",
    "else:\n",
    "    print(\"30 days\")"
   ]
  },
  {
   "cell_type": "code",
   "execution_count": 4,
   "id": "d3291b81",
   "metadata": {
    "ExecuteTime": {
     "end_time": "2021-08-27T01:48:33.493800Z",
     "start_time": "2021-08-27T01:48:30.359806Z"
    }
   },
   "outputs": [
    {
     "name": "stdout",
     "output_type": "stream",
     "text": [
      "Entre a amount: 500\n",
      "2\n",
      "0\n",
      "0\n",
      "0\n",
      "0\n",
      "df\n"
     ]
    },
    {
     "ename": "NameError",
     "evalue": "name 'twoth' is not defined",
     "output_type": "error",
     "traceback": [
      "\u001b[1;31m---------------------------------------------------------------------------\u001b[0m",
      "\u001b[1;31mNameError\u001b[0m                                 Traceback (most recent call last)",
      "\u001b[1;32m<ipython-input-4-5caa3b90a72d>\u001b[0m in \u001b[0;36m<module>\u001b[1;34m\u001b[0m\n\u001b[0;32m     38\u001b[0m \u001b[1;32melse\u001b[0m\u001b[1;33m:\u001b[0m\u001b[1;33m\u001b[0m\u001b[1;33m\u001b[0m\u001b[0m\n\u001b[0;32m     39\u001b[0m     \u001b[0mprint\u001b[0m\u001b[1;33m(\u001b[0m\u001b[1;34m\"df\"\u001b[0m\u001b[1;33m)\u001b[0m\u001b[1;33m\u001b[0m\u001b[1;33m\u001b[0m\u001b[0m\n\u001b[1;32m---> 40\u001b[1;33m \u001b[0mtotal\u001b[0m \u001b[1;33m=\u001b[0m \u001b[1;33m{\u001b[0m\u001b[0mtwoth\u001b[0m\u001b[1;33m}\u001b[0m \u001b[1;33m+\u001b[0m \u001b[1;33m{\u001b[0m\u001b[0mFivehund\u001b[0m\u001b[1;33m}\u001b[0m \u001b[1;33m+\u001b[0m \u001b[1;33m{\u001b[0m\u001b[0mtwohund\u001b[0m\u001b[1;33m}\u001b[0m \u001b[1;33m+\u001b[0m\u001b[0;31m \u001b[0m\u001b[0;31m\\\u001b[0m\u001b[1;33m\u001b[0m\u001b[1;33m\u001b[0m\u001b[0m\n\u001b[0m\u001b[0;32m     41\u001b[0m     \u001b[1;33m{\u001b[0m\u001b[0mhund\u001b[0m\u001b[1;33m}\u001b[0m \u001b[1;33m+\u001b[0m \u001b[1;33m{\u001b[0m\u001b[0mFifty\u001b[0m\u001b[1;33m}\u001b[0m \u001b[1;33m+\u001b[0m \u001b[1;33m{\u001b[0m\u001b[0mTwenty\u001b[0m\u001b[1;33m}\u001b[0m \u001b[1;33m+\u001b[0m \u001b[1;33m{\u001b[0m\u001b[0mten\u001b[0m\u001b[1;33m}\u001b[0m \u001b[1;33m+\u001b[0m \u001b[1;33m{\u001b[0m\u001b[0mFive\u001b[0m\u001b[1;33m}\u001b[0m\u001b[1;33m\u001b[0m\u001b[1;33m\u001b[0m\u001b[0m\n\u001b[0;32m     42\u001b[0m \u001b[0mprint\u001b[0m\u001b[1;33m(\u001b[0m\u001b[0mtotal\u001b[0m\u001b[1;33m)\u001b[0m\u001b[1;33m\u001b[0m\u001b[1;33m\u001b[0m\u001b[0m\n",
      "\u001b[1;31mNameError\u001b[0m: name 'twoth' is not defined"
     ]
    }
   ],
   "source": [
    "# total number of notes\n",
    "\n",
    "n = int(input(\"Entre a amount: \"))\n",
    "\n",
    "if n > 2000:\n",
    "    amount = n // 2000\n",
    "    twoth = n % 2000\n",
    "    print(twoth)\n",
    "if n > 500:\n",
    "    amount = n // 500\n",
    "    Fivehund = n % 500\n",
    "    print(Fivehund)\n",
    "if n > 200:\n",
    "    amount = n // 200\n",
    "    twohund = n % 200\n",
    "    print(amount)\n",
    "if n > 100:\n",
    "    amount = n // 100\n",
    "    hund = n % 100\n",
    "    print(hund)\n",
    "if n > 50:\n",
    "    amount = n // 50\n",
    "    Fifty = n % 50\n",
    "    print(Fifty)  # NOt working\n",
    "if n > 20:\n",
    "    amount = n // 20\n",
    "    Twenty = n % 20\n",
    "    print(Twenty)\n",
    "if n > 10:\n",
    "    amount = n // 10\n",
    "    ten = n % 10\n",
    "    print(ten)\n",
    "if n > 500:\n",
    "    amount = n // 5\n",
    "    Five = n % 5\n",
    "    print(Five)\n",
    "\n",
    "else:\n",
    "    print(\"df\")\n",
    "total = {twoth} + {Fivehund} + {twohund} + \\\n",
    "    {hund} + {Fifty} + {Twenty} + {ten} + {Five}\n",
    "print(total)"
   ]
  },
  {
   "cell_type": "code",
   "execution_count": 110,
   "id": "04346c83",
   "metadata": {},
   "outputs": [
    {
     "name": "stdout",
     "output_type": "stream",
     "text": [
      "enter the angle: 60\n",
      "enter the angle: 60\n",
      "enter the angle: 60\n",
      "Its a valid triangle\n"
     ]
    }
   ],
   "source": [
    "# angles of a triangle\n",
    "\n",
    "measure1 = int(input(\"enter the angle: \"))\n",
    "measure2 = int(input(\"enter the angle: \"))\n",
    "measure3 = int(input(\"enter the angle: \"))\n",
    "measure_angle = measure1 + measure2 + measure3\n",
    "\n",
    "if measure_angle == 180:\n",
    "    print(\"Its a valid triangle\")\n",
    "else:\n",
    "    print(\"Not a valid trianglr\")"
   ]
  },
  {
   "cell_type": "code",
   "execution_count": 17,
   "id": "06198b06",
   "metadata": {},
   "outputs": [
    {
     "name": "stdout",
     "output_type": "stream",
     "text": [
      "enter side1: 60\n",
      "enter side2: 70\n",
      "enter side3: 130\n",
      "Valid triangle\n"
     ]
    }
   ],
   "source": [
    "# All sides of a tringle\n",
    "\n",
    "side1 = eval(input(\"enter side1: \"))\n",
    "side2 = eval(input(\"enter side2: \"))\n",
    "side3 = eval(input(\"enter side3: \"))\n",
    "\n",
    "\n",
    "if (side1 + side2) > side3 or (side3 + side2) > side1 or (side1 + side3) > side2:\n",
    "    print(\"Valid triangle\")\n",
    "else:\n",
    "    print(\"Not a  Valid triangle\")"
   ]
  },
  {
   "cell_type": "code",
   "execution_count": 5,
   "id": "43d09ec2",
   "metadata": {
    "ExecuteTime": {
     "end_time": "2021-08-27T01:50:29.157599Z",
     "start_time": "2021-08-27T01:50:26.232211Z"
    }
   },
   "outputs": [
    {
     "name": "stdout",
     "output_type": "stream",
     "text": [
      "enter side1: 20\n",
      "enter side2: 20\n",
      "enter side3: 10\n",
      "Isoceles Triangle\n"
     ]
    }
   ],
   "source": [
    "side1 = eval(input(\"enter side1: \"))\n",
    "side2 = eval(input(\"enter side2: \"))\n",
    "side3 = eval(input(\"enter side3: \"))\n",
    "\n",
    "if side1 == side2 == side3:\n",
    "    print(\"Equilateral Triangle\")\n",
    "elif side1 == side2 or side2 == side3 or side3 == side1:\n",
    "    print(\"Isoceles Triangle\")\n",
    "else:\n",
    "    print(\"Scalene Triangle\")"
   ]
  },
  {
   "cell_type": "code",
   "execution_count": 20,
   "id": "a5e5cbc3",
   "metadata": {
    "ExecuteTime": {
     "start_time": "2021-08-27T01:54:52.900Z"
    }
   },
   "outputs": [
    {
     "name": "stdout",
     "output_type": "stream",
     "text": [
      "entre b: 4\n",
      "entre a: 1\n",
      "entre c: 3\n",
      "-1.0\n",
      "3.0\n"
     ]
    }
   ],
   "source": [
    "# Quadratic equation\n",
    "# -b +- under root b2 - 4ac/2a\n",
    "\n",
    "b = eval(input(\"entre b: \"))\n",
    "a = eval(input(\"entre a: \"))\n",
    "c = eval(input(\"entre c: \"))\n",
    "\n",
    "root = ((-b) + (b ** 2 - 4 * a * c) ** 0.5) / 2 * a\n",
    "root1 = ((-b) - (b ** 2 - 4 * a * c) ** 0.5) / 2 * a\n",
    "print(root)\n",
    "print (abs(root1))"
   ]
  },
  {
   "cell_type": "code",
   "execution_count": 5,
   "id": "4d22bacf",
   "metadata": {
    "ExecuteTime": {
     "end_time": "2021-08-27T01:58:39.031040Z",
     "start_time": "2021-08-27T01:58:36.212300Z"
    }
   },
   "outputs": [
    {
     "name": "stdout",
     "output_type": "stream",
     "text": [
      "Entre selling price:  100\n",
      "Entre buying price:  50\n",
      "Your profit is 50 ruppes\n"
     ]
    }
   ],
   "source": [
    "## Profit or loss\n",
    "\n",
    "selling_price = eval(input(\"Entre selling price:  \"))\n",
    "buying_price = eval(input(\"Entre buying price:  \"))\n",
    "\n",
    "n = abs(selling_price - buying_price)\n",
    "\n",
    "if selling_price > buying_price:\n",
    "    print(f\"Your profit is {n} ruppes\")\n",
    "elif selling_price < buying_price:\n",
    "    print(f\"Yourloss is {n} ruppes\")\n",
    "else:\n",
    "    print(\"No profit no loss\")"
   ]
  },
  {
   "cell_type": "code",
   "execution_count": 21,
   "id": "b4cddf99",
   "metadata": {
    "ExecuteTime": {
     "end_time": "2021-08-27T02:01:16.926193Z",
     "start_time": "2021-08-27T02:01:11.616648Z"
    }
   },
   "outputs": [
    {
     "name": "stdout",
     "output_type": "stream",
     "text": [
      "Entre your phy marks: 30\n",
      "Entre your chem marks: 30\n",
      "Entre your maths marks: 30\n",
      "Entre your bio marks: 3\n",
      "Enter your comp marks: 30\n",
      "24.6%\n",
      "Fail\n"
     ]
    }
   ],
   "source": [
    "# Student\n",
    "\n",
    "phy = eval(input(\"Entre your phy marks: \"))\n",
    "chem = eval(input(\"Entre your chem marks: \"))\n",
    "maths = eval(input(\"Entre your maths marks: \"))\n",
    "bio = eval(input(\"Entre your bio marks: \"))\n",
    "comp = eval(input(\"Enter your comp marks: \"))\n",
    "\n",
    "total = phy + chem + bio + maths + comp\n",
    "\n",
    "percentage = (total / 500) * 100\n",
    "print(f\"{percentage}%\")\n",
    "\n",
    "if percentage >= 90:\n",
    "    print(\"Grade A\")\n",
    "elif percentage >= 80 and percentage < 90:\n",
    "    print(\"Grade B\")\n",
    "elif percentage >= 70 and percentage < 80:\n",
    "    print(\"Grade C\")\n",
    "elif percentage >= 60 and percentage < 70:\n",
    "    print(\"Grade D\")\n",
    "elif percentage >= 40 and percentage < 60:\n",
    "    print(\"Grade E\")\n",
    "else:\n",
    "    print(\"Fail\")"
   ]
  },
  {
   "cell_type": "code",
   "execution_count": 22,
   "id": "b530bc8c",
   "metadata": {
    "ExecuteTime": {
     "end_time": "2021-08-27T02:01:53.883949Z",
     "start_time": "2021-08-27T02:01:36.443135Z"
    }
   },
   "outputs": [
    {
     "name": "stdout",
     "output_type": "stream",
     "text": [
      "Entre your basic salary:  20000\n",
      "Your Salary is : 40000.0\n"
     ]
    }
   ],
   "source": [
    "# Basic salary\n",
    "\n",
    "basic_s = int(input(\"Entre your basic salary:  \"))\n",
    "\n",
    "if basic_s > 20000:\n",
    "    gross_s = basic_s + (basic_s *0.3) + (basic_s*0.95)\n",
    "    \n",
    "elif basic_s > 20000:\n",
    "    gross_s = basic_s + (basic_s *0.25) + (basic_s*0.90)\n",
    "    \n",
    "elif basic_s > 10000:\n",
    "    gross_s = basic_s + (basic_s *0.2) + (basic_s*0.80)\n",
    "\n",
    "    \n",
    "print(f\"Your Salary is : {gross_s}\")"
   ]
  },
  {
   "cell_type": "code",
   "execution_count": 11,
   "id": "6d28e2d8",
   "metadata": {
    "ExecuteTime": {
     "end_time": "2021-08-27T02:21:48.061779Z",
     "start_time": "2021-08-27T02:21:46.385074Z"
    },
    "scrolled": true
   },
   "outputs": [
    {
     "name": "stdout",
     "output_type": "stream",
     "text": [
      "Entre your unit: 250\n",
      "Your total Electric bill is : 1020.0\n"
     ]
    }
   ],
   "source": [
    "# electricity bill\n",
    "\n",
    "unit = eval(input(\"Entre your unit: \"))\n",
    "\n",
    "price =0 \n",
    "\n",
    "if unit <= 50:\n",
    "    price= (unit * 0.5)\n",
    "elif unit >= 50 and unit <= 150:\n",
    "    price= (50 * 0.5)+(unit-50 * 0.75)\n",
    "elif unit >= 150 and unit <= 250:\n",
    "    price= (50 * 0.5)+(100 * 0.75) + (unit-150 * 1.20)\n",
    "elif unit > 250:\n",
    "    price= (50 * 0.5)+(100 * 0.75) + (100 * 1.20)+ (unit-250 * 1.5)\n",
    "\n",
    "Bill=price/20*100 + price\n",
    "\n",
    "print(f\"Your total Electric bill is : {Bill}\")"
   ]
  },
  {
   "cell_type": "code",
   "execution_count": 23,
   "id": "3d9a5430",
   "metadata": {},
   "outputs": [
    {
     "data": {
      "text/plain": [
       "'C:\\\\Users\\\\Jayshree'"
      ]
     },
     "execution_count": 23,
     "metadata": {},
     "output_type": "execute_result"
    }
   ],
   "source": [
    "pwd"
   ]
  },
  {
   "cell_type": "code",
   "execution_count": null,
   "id": "83bc21d5",
   "metadata": {},
   "outputs": [],
   "source": []
  }
 ],
 "metadata": {
  "kernelspec": {
   "display_name": "Python 3 (ipykernel)",
   "language": "python",
   "name": "python3"
  },
  "language_info": {
   "codemirror_mode": {
    "name": "ipython",
    "version": 3
   },
   "file_extension": ".py",
   "mimetype": "text/x-python",
   "name": "python",
   "nbconvert_exporter": "python",
   "pygments_lexer": "ipython3",
   "version": "3.9.6"
  },
  "latex_envs": {
   "LaTeX_envs_menu_present": true,
   "autoclose": false,
   "autocomplete": true,
   "bibliofile": "biblio.bib",
   "cite_by": "apalike",
   "current_citInitial": 1,
   "eqLabelWithNumbers": true,
   "eqNumInitial": 1,
   "hotkeys": {
    "equation": "Ctrl-E",
    "itemize": "Ctrl-I"
   },
   "labels_anchors": false,
   "latex_user_defs": false,
   "report_style_numbering": false,
   "user_envs_cfg": false
  }
 },
 "nbformat": 4,
 "nbformat_minor": 5
}
