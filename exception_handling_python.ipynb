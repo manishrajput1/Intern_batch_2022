{
 "cells": [
  {
   "cell_type": "markdown",
   "id": "dde42304",
   "metadata": {},
   "source": [
    "                            Baseerror \n",
    "                                 1. keyboardintrrupt\n",
    "                                 2. systemExit\n",
    "                                 3. generator exit\n",
    "                            \n",
    "                                    Exception\n",
    "                                        ValueError\n",
    "                                        SyntaxError\n",
    "                                        TyprError\n",
    "                                       \n",
    "                                        \n",
    "                                         \n",
    "                                        Arithmatic\n",
    "                                            ZerodivisionError\n",
    "                                            \n",
    "                              "
   ]
  },
  {
   "cell_type": "code",
   "execution_count": 20,
   "id": "3c1014cb",
   "metadata": {},
   "outputs": [],
   "source": [
    "def testing():\n",
    "    try:\n",
    "        a=int(input('Enter a'))\n",
    "        b=int(input('enter b: '))\n",
    "        return a/b\n",
    "    except Exception:\n",
    "        print('something wrong')"
   ]
  },
  {
   "cell_type": "code",
   "execution_count": 23,
   "id": "7c61f8eb",
   "metadata": {},
   "outputs": [
    {
     "name": "stdout",
     "output_type": "stream",
     "text": [
      "Enter a2354321y534354\n",
      "something wrong\n"
     ]
    }
   ],
   "source": [
    "testing()"
   ]
  },
  {
   "cell_type": "code",
   "execution_count": 34,
   "id": "c41f8feb",
   "metadata": {},
   "outputs": [],
   "source": [
    "def pattern(r):\n",
    "    if r<=50:\n",
    "        for i in range(r):\n",
    "            print(' '*(r-i)+'* '*i)\n",
    "        for i in range(r,0,-1):\n",
    "            print(' '*(r-i)+'* '*i)\n",
    "    else:\n",
    "        raise ValueError('max limit 50')"
   ]
  },
  {
   "cell_type": "code",
   "execution_count": 38,
   "id": "1dac574a",
   "metadata": {},
   "outputs": [
    {
     "ename": "ValueError",
     "evalue": "max limit 50",
     "output_type": "error",
     "traceback": [
      "\u001b[1;31m---------------------------------------------------------------------------\u001b[0m",
      "\u001b[1;31mValueError\u001b[0m                                Traceback (most recent call last)",
      "\u001b[1;32m<ipython-input-38-7120a6740acb>\u001b[0m in \u001b[0;36m<module>\u001b[1;34m\u001b[0m\n\u001b[1;32m----> 1\u001b[1;33m \u001b[0mpattern\u001b[0m\u001b[1;33m(\u001b[0m\u001b[1;36m60\u001b[0m\u001b[1;33m)\u001b[0m\u001b[1;33m\u001b[0m\u001b[0m\n\u001b[0m",
      "\u001b[1;32m<ipython-input-34-a7f0e4767027>\u001b[0m in \u001b[0;36mpattern\u001b[1;34m(r)\u001b[0m\n\u001b[0;32m      6\u001b[0m             \u001b[0mprint\u001b[0m\u001b[1;33m(\u001b[0m\u001b[1;34m' '\u001b[0m\u001b[1;33m*\u001b[0m\u001b[1;33m(\u001b[0m\u001b[0mr\u001b[0m\u001b[1;33m-\u001b[0m\u001b[0mi\u001b[0m\u001b[1;33m)\u001b[0m\u001b[1;33m+\u001b[0m\u001b[1;34m'* '\u001b[0m\u001b[1;33m*\u001b[0m\u001b[0mi\u001b[0m\u001b[1;33m)\u001b[0m\u001b[1;33m\u001b[0m\u001b[0m\n\u001b[0;32m      7\u001b[0m     \u001b[1;32melse\u001b[0m\u001b[1;33m:\u001b[0m\u001b[1;33m\u001b[0m\u001b[0m\n\u001b[1;32m----> 8\u001b[1;33m         \u001b[1;32mraise\u001b[0m \u001b[0mValueError\u001b[0m\u001b[1;33m(\u001b[0m\u001b[1;34m'max limit 50'\u001b[0m\u001b[1;33m)\u001b[0m\u001b[1;33m\u001b[0m\u001b[0m\n\u001b[0m",
      "\u001b[1;31mValueError\u001b[0m: max limit 50"
     ]
    }
   ],
   "source": [
    "pattern(60)"
   ]
  },
  {
   "cell_type": "markdown",
   "id": "f4989e79",
   "metadata": {},
   "source": [
    "# Socket programming"
   ]
  },
  {
   "cell_type": "code",
   "execution_count": null,
   "id": "8ac042ce",
   "metadata": {},
   "outputs": [],
   "source": [
    "# range"
   ]
  }
 ],
 "metadata": {
  "kernelspec": {
   "display_name": "Python 3",
   "language": "python",
   "name": "python3"
  },
  "language_info": {
   "codemirror_mode": {
    "name": "ipython",
    "version": 3
   },
   "file_extension": ".py",
   "mimetype": "text/x-python",
   "name": "python",
   "nbconvert_exporter": "python",
   "pygments_lexer": "ipython3",
   "version": "3.6.4"
  }
 },
 "nbformat": 4,
 "nbformat_minor": 5
}
