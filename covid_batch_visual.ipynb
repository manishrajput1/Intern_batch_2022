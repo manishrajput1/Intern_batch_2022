{
 "cells": [
  {
   "cell_type": "markdown",
   "id": "f7a0e881",
   "metadata": {},
   "source": [
    "# Covid visualization"
   ]
  },
  {
   "cell_type": "code",
   "execution_count": 1,
   "id": "b0135c5d",
   "metadata": {},
   "outputs": [],
   "source": [
    "import pandas as pd\n",
    "import numpy as np\n",
    "import matplotlib.pyplot as plt"
   ]
  },
  {
   "cell_type": "code",
   "execution_count": 2,
   "id": "89892045",
   "metadata": {},
   "outputs": [],
   "source": [
    "url='https://www.worldometers.info/coronavirus/countries-where-coronavirus-has-spread/'\n",
    "import requests"
   ]
  },
  {
   "cell_type": "code",
   "execution_count": 3,
   "id": "a2e1ff0f",
   "metadata": {},
   "outputs": [],
   "source": [
    "status=requests.get(url)"
   ]
  },
  {
   "cell_type": "code",
   "execution_count": 4,
   "id": "96379337",
   "metadata": {},
   "outputs": [
    {
     "data": {
      "text/plain": [
       "<Response [200]>"
      ]
     },
     "execution_count": 4,
     "metadata": {},
     "output_type": "execute_result"
    }
   ],
   "source": [
    "status"
   ]
  },
  {
   "cell_type": "code",
   "execution_count": 5,
   "id": "17f65b69",
   "metadata": {},
   "outputs": [],
   "source": [
    "content=status.content"
   ]
  },
  {
   "cell_type": "code",
   "execution_count": 7,
   "id": "1da4bd29",
   "metadata": {},
   "outputs": [],
   "source": [
    "df=pd.read_html(content)"
   ]
  },
  {
   "cell_type": "code",
   "execution_count": 9,
   "id": "0e480bd9",
   "metadata": {},
   "outputs": [],
   "source": [
    "df=df[0]"
   ]
  },
  {
   "cell_type": "code",
   "execution_count": 10,
   "id": "a016702a",
   "metadata": {},
   "outputs": [
    {
     "data": {
      "text/html": [
       "<div>\n",
       "<style scoped>\n",
       "    .dataframe tbody tr th:only-of-type {\n",
       "        vertical-align: middle;\n",
       "    }\n",
       "\n",
       "    .dataframe tbody tr th {\n",
       "        vertical-align: top;\n",
       "    }\n",
       "\n",
       "    .dataframe thead th {\n",
       "        text-align: right;\n",
       "    }\n",
       "</style>\n",
       "<table border=\"1\" class=\"dataframe\">\n",
       "  <thead>\n",
       "    <tr style=\"text-align: right;\">\n",
       "      <th></th>\n",
       "      <th>Country</th>\n",
       "      <th>Cases</th>\n",
       "      <th>Deaths</th>\n",
       "      <th>Region</th>\n",
       "    </tr>\n",
       "  </thead>\n",
       "  <tbody>\n",
       "    <tr>\n",
       "      <th>0</th>\n",
       "      <td>United States</td>\n",
       "      <td>82662748</td>\n",
       "      <td>1018335</td>\n",
       "      <td>North America</td>\n",
       "    </tr>\n",
       "    <tr>\n",
       "      <th>1</th>\n",
       "      <td>India</td>\n",
       "      <td>43060086</td>\n",
       "      <td>522223</td>\n",
       "      <td>Asia</td>\n",
       "    </tr>\n",
       "    <tr>\n",
       "      <th>2</th>\n",
       "      <td>Brazil</td>\n",
       "      <td>30349463</td>\n",
       "      <td>662701</td>\n",
       "      <td>South America</td>\n",
       "    </tr>\n",
       "    <tr>\n",
       "      <th>3</th>\n",
       "      <td>France</td>\n",
       "      <td>28303931</td>\n",
       "      <td>145060</td>\n",
       "      <td>Europe</td>\n",
       "    </tr>\n",
       "    <tr>\n",
       "      <th>4</th>\n",
       "      <td>Germany</td>\n",
       "      <td>24140700</td>\n",
       "      <td>134646</td>\n",
       "      <td>Europe</td>\n",
       "    </tr>\n",
       "    <tr>\n",
       "      <th>...</th>\n",
       "      <td>...</td>\n",
       "      <td>...</td>\n",
       "      <td>...</td>\n",
       "      <td>...</td>\n",
       "    </tr>\n",
       "    <tr>\n",
       "      <th>222</th>\n",
       "      <td>MS Zaandam</td>\n",
       "      <td>9</td>\n",
       "      <td>2</td>\n",
       "      <td>NaN</td>\n",
       "    </tr>\n",
       "    <tr>\n",
       "      <th>223</th>\n",
       "      <td>Niue</td>\n",
       "      <td>8</td>\n",
       "      <td>0</td>\n",
       "      <td>Australia/Oceania</td>\n",
       "    </tr>\n",
       "    <tr>\n",
       "      <th>224</th>\n",
       "      <td>Nauru</td>\n",
       "      <td>3</td>\n",
       "      <td>0</td>\n",
       "      <td>Australia/Oceania</td>\n",
       "    </tr>\n",
       "    <tr>\n",
       "      <th>225</th>\n",
       "      <td>Saint Helena</td>\n",
       "      <td>2</td>\n",
       "      <td>0</td>\n",
       "      <td>Africa</td>\n",
       "    </tr>\n",
       "    <tr>\n",
       "      <th>226</th>\n",
       "      <td>Micronesia</td>\n",
       "      <td>1</td>\n",
       "      <td>0</td>\n",
       "      <td>Australia/Oceania</td>\n",
       "    </tr>\n",
       "  </tbody>\n",
       "</table>\n",
       "<p>227 rows × 4 columns</p>\n",
       "</div>"
      ],
      "text/plain": [
       "           Country     Cases   Deaths             Region\n",
       "0    United States  82662748  1018335      North America\n",
       "1            India  43060086   522223               Asia\n",
       "2           Brazil  30349463   662701      South America\n",
       "3           France  28303931   145060             Europe\n",
       "4          Germany  24140700   134646             Europe\n",
       "..             ...       ...      ...                ...\n",
       "222     MS Zaandam         9        2                NaN\n",
       "223           Niue         8        0  Australia/Oceania\n",
       "224          Nauru         3        0  Australia/Oceania\n",
       "225   Saint Helena         2        0             Africa\n",
       "226     Micronesia         1        0  Australia/Oceania\n",
       "\n",
       "[227 rows x 4 columns]"
      ]
     },
     "execution_count": 10,
     "metadata": {},
     "output_type": "execute_result"
    }
   ],
   "source": [
    "df"
   ]
  },
  {
   "cell_type": "code",
   "execution_count": 11,
   "id": "0a8b83b6",
   "metadata": {},
   "outputs": [],
   "source": [
    "df_sort=df.sort_values(by='Cases',ascending=False)"
   ]
  },
  {
   "cell_type": "code",
   "execution_count": 13,
   "id": "f0f090ee",
   "metadata": {},
   "outputs": [],
   "source": [
    "df_final=df_sort[:30]"
   ]
  },
  {
   "cell_type": "code",
   "execution_count": 16,
   "id": "19e76035",
   "metadata": {},
   "outputs": [
    {
     "name": "stderr",
     "output_type": "stream",
     "text": [
      "c:\\users\\rmani\\appdata\\local\\programs\\python\\python36-32\\lib\\site-packages\\pandas\\core\\frame.py:4174: SettingWithCopyWarning: \n",
      "A value is trying to be set on a copy of a slice from a DataFrame\n",
      "\n",
      "See the caveats in the documentation: https://pandas.pydata.org/pandas-docs/stable/user_guide/indexing.html#returning-a-view-versus-a-copy\n",
      "  errors=errors,\n"
     ]
    }
   ],
   "source": [
    "df_final.drop('Region',inplace=True,axis=1)"
   ]
  },
  {
   "cell_type": "code",
   "execution_count": 46,
   "id": "fa5212c5",
   "metadata": {},
   "outputs": [],
   "source": [
    "india=df_final.iloc[1]['Cases']"
   ]
  },
  {
   "cell_type": "code",
   "execution_count": 58,
   "id": "03045eb1",
   "metadata": {},
   "outputs": [
    {
     "name": "stderr",
     "output_type": "stream",
     "text": [
      "c:\\users\\rmani\\appdata\\local\\programs\\python\\python36-32\\lib\\site-packages\\ipykernel_launcher.py:4: UserWarning: FixedFormatter should only be used together with FixedLocator\n",
      "  after removing the cwd from sys.path.\n"
     ]
    },
    {
     "data": {
      "image/png": "[encoded data removed]",
      "text/plain": [
       "<Figure size 864x432 with 1 Axes>"
      ]
     },
     "metadata": {
      "needs_background": "light"
     },
     "output_type": "display_data"
    }
   ],
   "source": [
    "fig=plt.figure(figsize=(12,6))\n",
    "ax=fig.subplots()\n",
    "ax.bar(df_final['Country'],df_final['Cases'],color=colors)\n",
    "ax.set_xticklabels(df_final['Country'],rotation=90)\n",
    "ax.spines['top'].set_visible(False)\n",
    "ax.spines['right'].set_visible(False)\n",
    "ax.set_xlabel('Country name',fontsize=20,color='green')\n",
    "ax.set_ylabel('Covid Cases',fontsize=20,color='green')\n",
    "ax.set_title('Country Vs Cases',fontsize=20,color='green')\n",
    "ax.text(12,50000000,f\"India-: total cases {india}\",fontsize=20,color='black')\n",
    "ax.text(12,40000000,f\"{time.strftime('%Y-%m-%d %I-%B')}\",fontsize=20,color='black')\n",
    "plt.show()"
   ]
  },
  {
   "cell_type": "code",
   "execution_count": 30,
   "id": "58d6d7c6",
   "metadata": {},
   "outputs": [],
   "source": [
    "colors=[]\n",
    "import random\n",
    "while len(colors)!=30:\n",
    "    color='#'\n",
    "    for i in range(6):\n",
    "        color=color+str(random.randint(0,9))\n",
    "    if color not in colors:\n",
    "        colors.append(color)"
   ]
  },
  {
   "cell_type": "code",
   "execution_count": 31,
   "id": "ff6282e3",
   "metadata": {},
   "outputs": [
    {
     "name": "stdout",
     "output_type": "stream",
     "text": [
      "['#523761', '#665679', '#202417', '#894136', '#996031', '#606210', '#605616', '#676003', '#037969', '#830778', '#096106', '#788598', '#154237', '#235853', '#286486', '#071063', '#418276', '#698409', '#504275', '#795101', '#289943', '#398359', '#771032', '#009266', '#970132', '#882845', '#534222', '#160065', '#916697', '#764643']\n"
     ]
    }
   ],
   "source": [
    "print(colors)"
   ]
  },
  {
   "cell_type": "code",
   "execution_count": 51,
   "id": "752801c3",
   "metadata": {},
   "outputs": [],
   "source": [
    "import time"
   ]
  },
  {
   "cell_type": "code",
   "execution_count": 57,
   "id": "c347fba2",
   "metadata": {},
   "outputs": [
    {
     "data": {
      "text/plain": [
       "'2022-04-25 12-April'"
      ]
     },
     "execution_count": 57,
     "metadata": {},
     "output_type": "execute_result"
    }
   ],
   "source": [
    "time.strftime('%Y-%m-%d %I-%B')"
   ]
  },
  {
   "cell_type": "code",
   "execution_count": 59,
   "id": "9776dcfb",
   "metadata": {},
   "outputs": [],
   "source": [
    "# OpenCv\n",
    "# images"
   ]
  },
  {
   "cell_type": "code",
   "execution_count": null,
   "id": "d096ec25",
   "metadata": {},
   "outputs": [],
   "source": []
  }
 ],
 "metadata": {
  "kernelspec": {
   "display_name": "Python 3",
   "language": "python",
   "name": "python3"
  },
  "language_info": {
   "codemirror_mode": {
    "name": "ipython",
    "version": 3
   },
   "file_extension": ".py",
   "mimetype": "text/x-python",
   "name": "python",
   "nbconvert_exporter": "python",
   "pygments_lexer": "ipython3",
   "version": "3.6.4"
  }
 },
 "nbformat": 4,
 "nbformat_minor": 5
}
