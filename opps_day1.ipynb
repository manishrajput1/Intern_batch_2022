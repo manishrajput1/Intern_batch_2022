{
 "cells": [
  {
   "cell_type": "markdown",
   "id": "da322e10",
   "metadata": {},
   "source": [
    "                    oops\n",
    "                    \n",
    "                    \n",
    "                    classes ---->collection of methods\n",
    "                    object----> instance\n",
    "                    method---> just like functions\n",
    "                    scope---> global , local , class scope , object scope \n",
    "                    "
   ]
  },
  {
   "cell_type": "code",
   "execution_count": 1,
   "id": "059542e4",
   "metadata": {},
   "outputs": [],
   "source": [
    "x=10\n",
    "x=20\n",
    "x=30"
   ]
  },
  {
   "cell_type": "code",
   "execution_count": 2,
   "id": "575add65",
   "metadata": {},
   "outputs": [
    {
     "name": "stdout",
     "output_type": "stream",
     "text": [
      "30\n"
     ]
    }
   ],
   "source": [
    "print(x)"
   ]
  },
  {
   "cell_type": "code",
   "execution_count": 7,
   "id": "77535e6f",
   "metadata": {},
   "outputs": [],
   "source": [
    "name='global'\n",
    "class testing():\n",
    "    name='class'\n",
    "    def func():\n",
    "        name='func'\n",
    "        return name\n",
    "    def func1():\n",
    "        name='func1'\n",
    "        return name\n",
    "        "
   ]
  },
  {
   "cell_type": "code",
   "execution_count": 8,
   "id": "591ab4ed",
   "metadata": {},
   "outputs": [
    {
     "name": "stdout",
     "output_type": "stream",
     "text": [
      "global\n"
     ]
    }
   ],
   "source": [
    "print(name)"
   ]
  },
  {
   "cell_type": "code",
   "execution_count": 9,
   "id": "07472a46",
   "metadata": {},
   "outputs": [
    {
     "data": {
      "text/plain": [
       "'class'"
      ]
     },
     "execution_count": 9,
     "metadata": {},
     "output_type": "execute_result"
    }
   ],
   "source": [
    "testing.name"
   ]
  },
  {
   "cell_type": "code",
   "execution_count": 10,
   "id": "b21eb938",
   "metadata": {},
   "outputs": [
    {
     "data": {
      "text/plain": [
       "'func'"
      ]
     },
     "execution_count": 10,
     "metadata": {},
     "output_type": "execute_result"
    }
   ],
   "source": [
    "testing.func()"
   ]
  },
  {
   "cell_type": "code",
   "execution_count": 11,
   "id": "77d97dc7",
   "metadata": {},
   "outputs": [
    {
     "data": {
      "text/plain": [
       "'func1'"
      ]
     },
     "execution_count": 11,
     "metadata": {},
     "output_type": "execute_result"
    }
   ],
   "source": [
    "testing.func1()"
   ]
  },
  {
   "cell_type": "code",
   "execution_count": 12,
   "id": "f04e114d",
   "metadata": {},
   "outputs": [],
   "source": [
    "obj=testing()"
   ]
  },
  {
   "cell_type": "code",
   "execution_count": 13,
   "id": "40d438d3",
   "metadata": {},
   "outputs": [
    {
     "data": {
      "text/plain": [
       "<__main__.testing at 0x5fbc9d0>"
      ]
     },
     "execution_count": 13,
     "metadata": {},
     "output_type": "execute_result"
    }
   ],
   "source": [
    "obj"
   ]
  },
  {
   "cell_type": "code",
   "execution_count": 14,
   "id": "94e5f983",
   "metadata": {},
   "outputs": [],
   "source": [
    "obj.name='object'"
   ]
  },
  {
   "cell_type": "code",
   "execution_count": 15,
   "id": "1aaa5c51",
   "metadata": {},
   "outputs": [
    {
     "data": {
      "text/plain": [
       "'global'"
      ]
     },
     "execution_count": 15,
     "metadata": {},
     "output_type": "execute_result"
    }
   ],
   "source": [
    "name"
   ]
  },
  {
   "cell_type": "code",
   "execution_count": 16,
   "id": "90e384b8",
   "metadata": {},
   "outputs": [
    {
     "data": {
      "text/plain": [
       "'class'"
      ]
     },
     "execution_count": 16,
     "metadata": {},
     "output_type": "execute_result"
    }
   ],
   "source": [
    "testing.name"
   ]
  },
  {
   "cell_type": "code",
   "execution_count": 17,
   "id": "1a4bf8ee",
   "metadata": {},
   "outputs": [
    {
     "data": {
      "text/plain": [
       "'func'"
      ]
     },
     "execution_count": 17,
     "metadata": {},
     "output_type": "execute_result"
    }
   ],
   "source": [
    "testing.func()"
   ]
  },
  {
   "cell_type": "code",
   "execution_count": 18,
   "id": "2988be8f",
   "metadata": {},
   "outputs": [
    {
     "data": {
      "text/plain": [
       "'func1'"
      ]
     },
     "execution_count": 18,
     "metadata": {},
     "output_type": "execute_result"
    }
   ],
   "source": [
    "testing.func1()"
   ]
  },
  {
   "cell_type": "code",
   "execution_count": 19,
   "id": "624a2986",
   "metadata": {},
   "outputs": [
    {
     "data": {
      "text/plain": [
       "'object'"
      ]
     },
     "execution_count": 19,
     "metadata": {},
     "output_type": "execute_result"
    }
   ],
   "source": [
    "obj.name"
   ]
  },
  {
   "cell_type": "code",
   "execution_count": 20,
   "id": "4ee6b174",
   "metadata": {},
   "outputs": [
    {
     "ename": "NameError",
     "evalue": "name 'method1' is not defined",
     "output_type": "error",
     "traceback": [
      "\u001b[1;31m---------------------------------------------------------------------------\u001b[0m",
      "\u001b[1;31mNameError\u001b[0m                                 Traceback (most recent call last)",
      "\u001b[1;32m<ipython-input-20-a04dd05c4c8c>\u001b[0m in \u001b[0;36m<module>\u001b[1;34m\u001b[0m\n\u001b[1;32m----> 1\u001b[1;33m \u001b[1;32mclass\u001b[0m \u001b[0mclassname\u001b[0m\u001b[1;33m(\u001b[0m\u001b[1;33m)\u001b[0m\u001b[1;33m:\u001b[0m\u001b[1;33m\u001b[0m\u001b[0m\n\u001b[0m\u001b[0;32m      2\u001b[0m     \u001b[0mmethod1\u001b[0m\u001b[1;33m\u001b[0m\u001b[0m\n\u001b[0;32m      3\u001b[0m     \u001b[0mmethod2\u001b[0m\u001b[1;33m\u001b[0m\u001b[0m\n\u001b[0;32m      4\u001b[0m \u001b[0mobj\u001b[0m\u001b[1;33m=\u001b[0m\u001b[0mclassname\u001b[0m\u001b[1;33m(\u001b[0m\u001b[1;33m)\u001b[0m\u001b[1;33m\u001b[0m\u001b[0m\n\u001b[0;32m      5\u001b[0m \u001b[0mobj2\u001b[0m\u001b[1;33m=\u001b[0m\u001b[0mclassname\u001b[0m\u001b[1;33m(\u001b[0m\u001b[1;33m)\u001b[0m\u001b[1;33m\u001b[0m\u001b[0m\n",
      "\u001b[1;32m<ipython-input-20-a04dd05c4c8c>\u001b[0m in \u001b[0;36mclassname\u001b[1;34m()\u001b[0m\n\u001b[0;32m      1\u001b[0m \u001b[1;32mclass\u001b[0m \u001b[0mclassname\u001b[0m\u001b[1;33m(\u001b[0m\u001b[1;33m)\u001b[0m\u001b[1;33m:\u001b[0m\u001b[1;33m\u001b[0m\u001b[0m\n\u001b[1;32m----> 2\u001b[1;33m     \u001b[0mmethod1\u001b[0m\u001b[1;33m\u001b[0m\u001b[0m\n\u001b[0m\u001b[0;32m      3\u001b[0m     \u001b[0mmethod2\u001b[0m\u001b[1;33m\u001b[0m\u001b[0m\n\u001b[0;32m      4\u001b[0m \u001b[0mobj\u001b[0m\u001b[1;33m=\u001b[0m\u001b[0mclassname\u001b[0m\u001b[1;33m(\u001b[0m\u001b[1;33m)\u001b[0m\u001b[1;33m\u001b[0m\u001b[0m\n\u001b[0;32m      5\u001b[0m \u001b[0mobj2\u001b[0m\u001b[1;33m=\u001b[0m\u001b[0mclassname\u001b[0m\u001b[1;33m(\u001b[0m\u001b[1;33m)\u001b[0m\u001b[1;33m\u001b[0m\u001b[0m\n",
      "\u001b[1;31mNameError\u001b[0m: name 'method1' is not defined"
     ]
    }
   ],
   "source": [
    "class classname():\n",
    "    method1\n",
    "    method2\n",
    "obj=classname()\n",
    "obj2=classname()"
   ]
  },
  {
   "cell_type": "code",
   "execution_count": 21,
   "id": "78030d9a",
   "metadata": {},
   "outputs": [],
   "source": [
    "class car:\n",
    "    def swift():\n",
    "        return 'maruti swift'\n",
    "    def kia():\n",
    "        return 'hyundai kia'\n",
    "    def tata():\n",
    "        return 'tata altroz'\n",
    "    "
   ]
  },
  {
   "cell_type": "code",
   "execution_count": 22,
   "id": "4aae4c1f",
   "metadata": {},
   "outputs": [
    {
     "data": {
      "text/plain": [
       "'maruti swift'"
      ]
     },
     "execution_count": 22,
     "metadata": {},
     "output_type": "execute_result"
    }
   ],
   "source": [
    "car.swift()"
   ]
  },
  {
   "cell_type": "code",
   "execution_count": 23,
   "id": "f9dbf4b1",
   "metadata": {},
   "outputs": [
    {
     "data": {
      "text/plain": [
       "'tata altroz'"
      ]
     },
     "execution_count": 23,
     "metadata": {},
     "output_type": "execute_result"
    }
   ],
   "source": [
    "car.tata()"
   ]
  },
  {
   "cell_type": "code",
   "execution_count": 24,
   "id": "1000c5c0",
   "metadata": {},
   "outputs": [],
   "source": [
    "obj=car()"
   ]
  },
  {
   "cell_type": "code",
   "execution_count": 25,
   "id": "4d33aba5",
   "metadata": {},
   "outputs": [
    {
     "name": "stdout",
     "output_type": "stream",
     "text": [
      "['__class__', '__delattr__', '__dict__', '__dir__', '__doc__', '__eq__', '__format__', '__ge__', '__getattribute__', '__gt__', '__hash__', '__init__', '__init_subclass__', '__le__', '__lt__', '__module__', '__ne__', '__new__', '__reduce__', '__reduce_ex__', '__repr__', '__setattr__', '__sizeof__', '__str__', '__subclasshook__', '__weakref__', 'kia', 'swift', 'tata']\n"
     ]
    }
   ],
   "source": [
    "print(dir(obj))"
   ]
  },
  {
   "cell_type": "code",
   "execution_count": 26,
   "id": "a4254ec7",
   "metadata": {},
   "outputs": [
    {
     "name": "stdout",
     "output_type": "stream",
     "text": [
      "['__class__', '__delattr__', '__dict__', '__dir__', '__doc__', '__eq__', '__format__', '__ge__', '__getattribute__', '__gt__', '__hash__', '__init__', '__init_subclass__', '__le__', '__lt__', '__module__', '__ne__', '__new__', '__reduce__', '__reduce_ex__', '__repr__', '__setattr__', '__sizeof__', '__str__', '__subclasshook__', '__weakref__', 'kia', 'swift', 'tata']\n"
     ]
    }
   ],
   "source": [
    "print(dir(car))"
   ]
  },
  {
   "cell_type": "code",
   "execution_count": 29,
   "id": "0053661f",
   "metadata": {},
   "outputs": [
    {
     "ename": "TypeError",
     "evalue": "tata() takes 0 positional arguments but 1 was given",
     "output_type": "error",
     "traceback": [
      "\u001b[1;31m---------------------------------------------------------------------------\u001b[0m",
      "\u001b[1;31mTypeError\u001b[0m                                 Traceback (most recent call last)",
      "\u001b[1;32m<ipython-input-29-386c8a9767ff>\u001b[0m in \u001b[0;36m<module>\u001b[1;34m\u001b[0m\n\u001b[1;32m----> 1\u001b[1;33m \u001b[0mobj\u001b[0m\u001b[1;33m.\u001b[0m\u001b[0mtata\u001b[0m\u001b[1;33m(\u001b[0m\u001b[1;33m)\u001b[0m\u001b[1;33m\u001b[0m\u001b[0m\n\u001b[0m",
      "\u001b[1;31mTypeError\u001b[0m: tata() takes 0 positional arguments but 1 was given"
     ]
    }
   ],
   "source": [
    "obj.tata()"
   ]
  },
  {
   "cell_type": "code",
   "execution_count": 30,
   "id": "2b23561b",
   "metadata": {},
   "outputs": [],
   "source": [
    "# __new__    obj "
   ]
  },
  {
   "cell_type": "code",
   "execution_count": 37,
   "id": "a453e435",
   "metadata": {},
   "outputs": [],
   "source": [
    "class demo:\n",
    "    def show(self):\n",
    "        print('objec: ',self)\n",
    "        \n",
    "        "
   ]
  },
  {
   "cell_type": "code",
   "execution_count": 38,
   "id": "f181a374",
   "metadata": {},
   "outputs": [],
   "source": [
    "ob=demo()"
   ]
  },
  {
   "cell_type": "code",
   "execution_count": 39,
   "id": "8e25511e",
   "metadata": {},
   "outputs": [
    {
     "name": "stdout",
     "output_type": "stream",
     "text": [
      "<__main__.demo object at 0x00E8C810>\n"
     ]
    }
   ],
   "source": [
    "print(ob)"
   ]
  },
  {
   "cell_type": "code",
   "execution_count": 40,
   "id": "3d908b60",
   "metadata": {},
   "outputs": [
    {
     "name": "stdout",
     "output_type": "stream",
     "text": [
      "objec:  <__main__.demo object at 0x00E8C810>\n"
     ]
    }
   ],
   "source": [
    "ob.show()"
   ]
  },
  {
   "cell_type": "code",
   "execution_count": 41,
   "id": "d497fbb6",
   "metadata": {},
   "outputs": [],
   "source": [
    "ob1=demo()"
   ]
  },
  {
   "cell_type": "code",
   "execution_count": 42,
   "id": "eada79d6",
   "metadata": {},
   "outputs": [
    {
     "name": "stdout",
     "output_type": "stream",
     "text": [
      "<__main__.demo object at 0x00E8C6D0>\n"
     ]
    }
   ],
   "source": [
    "print(ob1)"
   ]
  },
  {
   "cell_type": "code",
   "execution_count": 43,
   "id": "a726b1fb",
   "metadata": {},
   "outputs": [
    {
     "name": "stdout",
     "output_type": "stream",
     "text": [
      "objec:  <__main__.demo object at 0x00E8C6D0>\n"
     ]
    }
   ],
   "source": [
    "ob1.show()"
   ]
  },
  {
   "cell_type": "code",
   "execution_count": 65,
   "id": "9fb215d2",
   "metadata": {},
   "outputs": [],
   "source": [
    "class robot:\n",
    "    def getdata(self):\n",
    "        self.uname='manish'\n",
    "        self.age=24\n",
    "        self.address='jaipur'\n",
    "    def showdata(self):\n",
    "        print('user name: ',self.uname)\n",
    "        print('user age: ',self.age)\n",
    "        print('user address: ',self.address)"
   ]
  },
  {
   "cell_type": "code",
   "execution_count": null,
   "id": "35466db7",
   "metadata": {},
   "outputs": [],
   "source": []
  },
  {
   "cell_type": "code",
   "execution_count": 66,
   "id": "693d5999",
   "metadata": {},
   "outputs": [],
   "source": [
    "obj=robot()"
   ]
  },
  {
   "cell_type": "code",
   "execution_count": 67,
   "id": "7673ba9c",
   "metadata": {},
   "outputs": [],
   "source": [
    "obj.getdata()"
   ]
  },
  {
   "cell_type": "code",
   "execution_count": 68,
   "id": "432191f5",
   "metadata": {},
   "outputs": [
    {
     "name": "stdout",
     "output_type": "stream",
     "text": [
      "['__bool__', '__class__', '__delattr__', '__dir__', '__doc__', '__eq__', '__format__', '__ge__', '__getattribute__', '__gt__', '__hash__', '__init__', '__init_subclass__', '__le__', '__lt__', '__ne__', '__new__', '__reduce__', '__reduce_ex__', '__repr__', '__setattr__', '__sizeof__', '__str__', '__subclasshook__']\n"
     ]
    }
   ],
   "source": [
    "print(dir(obj.getdata()))"
   ]
  },
  {
   "cell_type": "code",
   "execution_count": 69,
   "id": "bee1baa0",
   "metadata": {},
   "outputs": [
    {
     "name": "stdout",
     "output_type": "stream",
     "text": [
      "user name:  manish\n",
      "user age:  24\n",
      "user address:  jaipur\n"
     ]
    }
   ],
   "source": [
    "obj.showdata()"
   ]
  },
  {
   "cell_type": "code",
   "execution_count": 70,
   "id": "0d5e05c9",
   "metadata": {},
   "outputs": [
    {
     "data": {
      "text/plain": [
       "'manish'"
      ]
     },
     "execution_count": 70,
     "metadata": {},
     "output_type": "execute_result"
    }
   ],
   "source": [
    "obj.uname"
   ]
  },
  {
   "cell_type": "code",
   "execution_count": 71,
   "id": "690dc797",
   "metadata": {},
   "outputs": [
    {
     "data": {
      "text/plain": [
       "24"
      ]
     },
     "execution_count": 71,
     "metadata": {},
     "output_type": "execute_result"
    }
   ],
   "source": [
    "obj.age"
   ]
  },
  {
   "cell_type": "code",
   "execution_count": 72,
   "id": "3a09379b",
   "metadata": {},
   "outputs": [
    {
     "data": {
      "text/plain": [
       "'jaipur'"
      ]
     },
     "execution_count": 72,
     "metadata": {},
     "output_type": "execute_result"
    }
   ],
   "source": [
    "obj.address"
   ]
  },
  {
   "cell_type": "code",
   "execution_count": 73,
   "id": "8eb05224",
   "metadata": {},
   "outputs": [],
   "source": [
    "class robot1:\n",
    "    def get(self):\n",
    "        self.uname='manish'\n",
    "        self.age=24\n",
    "        self.address='jaipur'\n",
    "    def show(self):\n",
    "        print('user name: ',self.uname)\n",
    "        print('user age: ',self.age)\n",
    "        print('user address: ',self.address)"
   ]
  },
  {
   "cell_type": "code",
   "execution_count": 74,
   "id": "3e9d5024",
   "metadata": {},
   "outputs": [],
   "source": [
    "first=robot1()"
   ]
  },
  {
   "cell_type": "code",
   "execution_count": 76,
   "id": "143d7ab9",
   "metadata": {},
   "outputs": [],
   "source": [
    "first.get()"
   ]
  },
  {
   "cell_type": "code",
   "execution_count": 77,
   "id": "d9489b40",
   "metadata": {},
   "outputs": [
    {
     "name": "stdout",
     "output_type": "stream",
     "text": [
      "user name:  manish\n",
      "user age:  24\n",
      "user address:  jaipur\n"
     ]
    }
   ],
   "source": [
    "first.show()"
   ]
  },
  {
   "cell_type": "code",
   "execution_count": 78,
   "id": "f91dd33e",
   "metadata": {},
   "outputs": [],
   "source": [
    "# constructor   ----> "
   ]
  },
  {
   "cell_type": "code",
   "execution_count": 82,
   "id": "4c9974c2",
   "metadata": {},
   "outputs": [],
   "source": [
    "class robot2:\n",
    "    def __init__(self):\n",
    "        self.uname='manish'\n",
    "        self.age=24\n",
    "        self.address='jaipur'\n",
    "        print('constructor execute')\n",
    "    def show1(self):\n",
    "        print('user name: ',self.uname)\n",
    "        print('user age: ',self.age)\n",
    "        print('user address: ',self.address)"
   ]
  },
  {
   "cell_type": "code",
   "execution_count": 80,
   "id": "4d2be6c6",
   "metadata": {},
   "outputs": [],
   "source": [
    "s=robot2()"
   ]
  },
  {
   "cell_type": "code",
   "execution_count": 81,
   "id": "bd0890f5",
   "metadata": {},
   "outputs": [
    {
     "name": "stdout",
     "output_type": "stream",
     "text": [
      "user name:  manish\n",
      "user age:  24\n",
      "user address:  jaipur\n"
     ]
    }
   ],
   "source": [
    "s.show1()"
   ]
  },
  {
   "cell_type": "code",
   "execution_count": 83,
   "id": "b018c781",
   "metadata": {},
   "outputs": [
    {
     "name": "stdout",
     "output_type": "stream",
     "text": [
      "constructor execute\n"
     ]
    }
   ],
   "source": [
    "s1=robot2()"
   ]
  },
  {
   "cell_type": "code",
   "execution_count": 84,
   "id": "053de717",
   "metadata": {},
   "outputs": [
    {
     "name": "stdout",
     "output_type": "stream",
     "text": [
      "user name:  manish\n",
      "user age:  24\n",
      "user address:  jaipur\n"
     ]
    }
   ],
   "source": [
    "s1.show1()"
   ]
  },
  {
   "cell_type": "code",
   "execution_count": null,
   "id": "23da077e",
   "metadata": {},
   "outputs": [],
   "source": [
    "# inheritance\n",
    "# encapsulation\n",
    "# poly\n",
    "# data hiding\n",
    "# overloading overriding"
   ]
  }
 ],
 "metadata": {
  "kernelspec": {
   "display_name": "Python 3",
   "language": "python",
   "name": "python3"
  },
  "language_info": {
   "codemirror_mode": {
    "name": "ipython",
    "version": 3
   },
   "file_extension": ".py",
   "mimetype": "text/x-python",
   "name": "python",
   "nbconvert_exporter": "python",
   "pygments_lexer": "ipython3",
   "version": "3.6.4"
  }
 },
 "nbformat": 4,
 "nbformat_minor": 5
}
