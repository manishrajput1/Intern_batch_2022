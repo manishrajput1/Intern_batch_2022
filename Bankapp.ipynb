{
 "cells": [
  {
   "cell_type": "code",
   "execution_count": 1,
   "id": "71a311d1",
   "metadata": {},
   "outputs": [],
   "source": [
    "data={1001:{'name':'manish','pass':'mann@123','bal':10000,'email':'rmanish911@gmail.com'},\n",
    "     1002:{'name':'shan','pass':'shan@123','bal':20000,'email':'rmanish911@gmail.com'}}"
   ]
  },
  {
   "cell_type": "code",
   "execution_count": 2,
   "id": "c184d5e2",
   "metadata": {},
   "outputs": [],
   "source": [
    "import sys\n",
    "import time\n",
    "import random\n",
    "from getpass import getpass\n",
    "def main():\n",
    "    print('Welcome to bank application'.center(70))\n",
    "    print()\n",
    "    print('1. Signup \\t 2. Login \\t 3. Exit'.center(70))\n",
    "    print()\n",
    "    usr=int(input('enter your choice 1 | 2 | 3: '))\n",
    "    if usr==1:\n",
    "        Signup()\n",
    "    elif usr==2:\n",
    "        Login()\n",
    "    elif usr==3:\n",
    "        sys.exit()"
   ]
  },
  {
   "cell_type": "code",
   "execution_count": 14,
   "id": "70dc8e08",
   "metadata": {},
   "outputs": [
    {
     "name": "stdout",
     "output_type": "stream",
     "text": [
      "enter password: ········\n"
     ]
    }
   ],
   "source": [
    "r=getpass('enter password: ')"
   ]
  },
  {
   "cell_type": "code",
   "execution_count": 15,
   "id": "36c157f8",
   "metadata": {},
   "outputs": [
    {
     "data": {
      "text/plain": [
       "'rmanish'"
      ]
     },
     "execution_count": 15,
     "metadata": {},
     "output_type": "execute_result"
    }
   ],
   "source": [
    "r"
   ]
  },
  {
   "cell_type": "code",
   "execution_count": 7,
   "id": "bfc59ecc",
   "metadata": {},
   "outputs": [],
   "source": [
    "def Signup():\n",
    "    import time\n",
    "    name=input('Enter your name: ')\n",
    "    pas=getpass('enter your password')\n",
    "    email=input('Enter email: ')\n",
    "    bal=10000\n",
    "    ac=list(data.keys())[-1]+1\n",
    "    o=otp()\n",
    "    import smtplib\n",
    "    con=smtplib.SMTP('smtp.gmail.com',587)# host , port\n",
    "    con.starttls()\n",
    "    con.login('bankapplication7@gmail.com','Bankapp@') # email ,password\n",
    "    con.sendmail('bankapplication7@gmail.com',email,f'Subject: otp \\n\\n {o}')\n",
    "    time.sleep(2)\n",
    "    ot=input('Enter otp: ')\n",
    "    if o==ot:\n",
    "        data[ac]={'name':name,'email':email,'pass':pas,'bal':bal}\n",
    "        print('account created')\n",
    "        print()\n",
    "        print(f'your account number is {ac} now you can login')\n",
    "    else:\n",
    "        \n",
    "        print('Invalid otp')\n",
    "\n",
    "\n",
    "    "
   ]
  },
  {
   "cell_type": "code",
   "execution_count": 13,
   "id": "81ddc713",
   "metadata": {},
   "outputs": [],
   "source": [
    "def Login():\n",
    "    ac=int(input('Enter your account number: '))\n",
    "    if ac in data.keys():\n",
    "        pas=getpass('Enter your password: ')\n",
    "        if pas==data[ac]['pass']:\n",
    "            print('login success')\n",
    "            \n",
    "            print('1. Credit \\t2. Debit \\t3. Check_bal \\t4. Exit')\n",
    "            print()\n",
    "            us=int(input('Enter your choice: '))\n",
    "            if us==1:\n",
    "                Credit(ac)\n",
    "            elif us==2:\n",
    "                Debit(ac)\n",
    "            elif us==3:\n",
    "                Check_bal(ac)\n",
    "            elif us==4:\n",
    "                sys.exit()\n",
    "            else:\n",
    "                print('invalid option...')\n",
    "            \n",
    "            \n",
    "        else:\n",
    "            print('wrong password')\n",
    "        \n",
    "    else:\n",
    "        print('account does not exist...first go to signup')"
   ]
  },
  {
   "cell_type": "code",
   "execution_count": 15,
   "id": "1b534b45",
   "metadata": {},
   "outputs": [],
   "source": [
    "def Credit(ac):\n",
    "    amount=int(input('Enter amount : '))\n",
    "    data[ac]['bal']+=amount\n",
    "    print(f'your amount {amount} has been credited in your account ')\n",
    "    print()\n",
    "    print(f'your updated balancce is {data[ac][\"bal\"]}')"
   ]
  },
  {
   "cell_type": "code",
   "execution_count": 16,
   "id": "a644ddb5",
   "metadata": {},
   "outputs": [
    {
     "name": "stdout",
     "output_type": "stream",
     "text": [
      "                     Welcome to bank application                      \n",
      "\n",
      "                    1. Signup \t 2. Login \t 3. Exit                    \n",
      "\n",
      "enter your choice 1 | 2 | 3: 2\n",
      "Enter your account number: 1003\n",
      "Enter your password: ········\n",
      "login success\n",
      "1. Credit \t2. Debit \t3. Check_bal \t4. Exit\n",
      "\n",
      "Enter your choice: 1\n",
      "Enter amount : 45000\n",
      "your amount 45000 has been credited in your account \n",
      "\n",
      "your updated balancce is 55000\n"
     ]
    }
   ],
   "source": [
    "main()"
   ]
  },
  {
   "cell_type": "code",
   "execution_count": 12,
   "id": "d6dd19b6",
   "metadata": {},
   "outputs": [
    {
     "data": {
      "text/plain": [
       "{1001: {'name': 'manish',\n",
       "  'pass': 'mann@123',\n",
       "  'bal': 10000,\n",
       "  'email': 'rmanish911@gmail.com'},\n",
       " 1002: {'name': 'shan',\n",
       "  'pass': 'shan@123',\n",
       "  'bal': 20000,\n",
       "  'email': 'rmanish911@gmail.com'}}"
      ]
     },
     "execution_count": 12,
     "metadata": {},
     "output_type": "execute_result"
    }
   ],
   "source": [
    "data"
   ]
  },
  {
   "cell_type": "code",
   "execution_count": 15,
   "id": "048e6c91",
   "metadata": {},
   "outputs": [
    {
     "data": {
      "text/plain": [
       "20000"
      ]
     },
     "execution_count": 15,
     "metadata": {},
     "output_type": "execute_result"
    }
   ],
   "source": [
    "data[1002]['bal']"
   ]
  },
  {
   "cell_type": "code",
   "execution_count": 16,
   "id": "ff4cc545",
   "metadata": {},
   "outputs": [],
   "source": [
    "import random"
   ]
  },
  {
   "cell_type": "code",
   "execution_count": 17,
   "id": "e9cc23b7",
   "metadata": {},
   "outputs": [],
   "source": [
    "# random\n",
    "# randint\n",
    "# choice\n",
    "# shuffle"
   ]
  },
  {
   "cell_type": "code",
   "execution_count": 22,
   "id": "3a492a20",
   "metadata": {},
   "outputs": [
    {
     "data": {
      "text/plain": [
       "0.35475638125356623"
      ]
     },
     "execution_count": 22,
     "metadata": {},
     "output_type": "execute_result"
    }
   ],
   "source": [
    "random.random()"
   ]
  },
  {
   "cell_type": "code",
   "execution_count": 29,
   "id": "a4dd5c10",
   "metadata": {},
   "outputs": [
    {
     "data": {
      "text/plain": [
       "19"
      ]
     },
     "execution_count": 29,
     "metadata": {},
     "output_type": "execute_result"
    }
   ],
   "source": [
    "random.randint(10,20)"
   ]
  },
  {
   "cell_type": "code",
   "execution_count": 30,
   "id": "feef5ecf",
   "metadata": {},
   "outputs": [],
   "source": [
    "p=['a','b','c','d','e','f']"
   ]
  },
  {
   "cell_type": "code",
   "execution_count": 39,
   "id": "cd39df61",
   "metadata": {},
   "outputs": [
    {
     "data": {
      "text/plain": [
       "'d'"
      ]
     },
     "execution_count": 39,
     "metadata": {},
     "output_type": "execute_result"
    }
   ],
   "source": [
    "random.choice(p)"
   ]
  },
  {
   "cell_type": "code",
   "execution_count": 40,
   "id": "c7d6aca3",
   "metadata": {},
   "outputs": [],
   "source": [
    "random.shuffle(p)"
   ]
  },
  {
   "cell_type": "code",
   "execution_count": 41,
   "id": "d3bd0f3e",
   "metadata": {},
   "outputs": [
    {
     "data": {
      "text/plain": [
       "['f', 'c', 'a', 'e', 'b', 'd']"
      ]
     },
     "execution_count": 41,
     "metadata": {},
     "output_type": "execute_result"
    }
   ],
   "source": [
    "p"
   ]
  },
  {
   "cell_type": "code",
   "execution_count": 45,
   "id": "f8bec70e",
   "metadata": {},
   "outputs": [
    {
     "data": {
      "text/plain": [
       "8"
      ]
     },
     "execution_count": 45,
     "metadata": {},
     "output_type": "execute_result"
    }
   ],
   "source": [
    "random.randint(0,9)"
   ]
  },
  {
   "cell_type": "code",
   "execution_count": 6,
   "id": "1c2ade87",
   "metadata": {},
   "outputs": [],
   "source": [
    "def otp():\n",
    "    import random\n",
    "    otp=''\n",
    "    for i in range(4):\n",
    "        r=str(random.randint(0,9))\n",
    "        otp=otp+r\n",
    "    return otp\n",
    "      #  print(r)\n",
    "    #print(type(r))\n"
   ]
  },
  {
   "cell_type": "code",
   "execution_count": 10,
   "id": "841cd93e",
   "metadata": {},
   "outputs": [
    {
     "data": {
      "text/plain": [
       "'3133'"
      ]
     },
     "execution_count": 10,
     "metadata": {},
     "output_type": "execute_result"
    }
   ],
   "source": [
    "# gmail , yahoo,outlook\n",
    "otp()"
   ]
  },
  {
   "cell_type": "code",
   "execution_count": 11,
   "id": "b4eae8db",
   "metadata": {},
   "outputs": [
    {
     "data": {
      "text/plain": [
       "{}"
      ]
     },
     "execution_count": 11,
     "metadata": {},
     "output_type": "execute_result"
    }
   ],
   "source": [
    "o=otp()\n",
    "import smtplib\n",
    "con=smtplib.SMTP('smtp.gmail.com',587)# host , port\n",
    "con.starttls()\n",
    "con.login('bankapplication7@gmail.com','Bankapp@') # email ,password\n",
    "con.sendmail('bankapplication7@gmail.com','dhrumil155@gmail.com',f'Subject: otp \\n\\n {o}')\n"
   ]
  },
  {
   "cell_type": "code",
   "execution_count": 20,
   "id": "dfb19333",
   "metadata": {},
   "outputs": [
    {
     "data": {
      "text/plain": [
       "1003"
      ]
     },
     "execution_count": 20,
     "metadata": {},
     "output_type": "execute_result"
    }
   ],
   "source": [
    "list(data.keys())[-1]+1"
   ]
  },
  {
   "cell_type": "code",
   "execution_count": 22,
   "id": "6c5bd04b",
   "metadata": {},
   "outputs": [
    {
     "name": "stdout",
     "output_type": "stream",
     "text": [
      "                     Welcome to bank application                      \n",
      "\n",
      "                    1. Signup \t 2. Login \t 3. Exit                    \n",
      "\n",
      "enter your choice 1 | 2 | 3: 1\n",
      "Enter your name: shriya\n",
      "enter your password········\n",
      "Enter email: shriyak23@gmail.com\n",
      "Enter otp: 2198\n",
      "account created\n",
      "\n",
      "your account number is 1003 now you can login\n"
     ]
    }
   ],
   "source": [
    "main()"
   ]
  },
  {
   "cell_type": "code",
   "execution_count": 23,
   "id": "5404e208",
   "metadata": {},
   "outputs": [
    {
     "data": {
      "text/plain": [
       "{1001: {'name': 'manish',\n",
       "  'pass': 'mann@123',\n",
       "  'bal': 10000,\n",
       "  'email': 'rmanish911@gmail.com'},\n",
       " 1002: {'name': 'shan',\n",
       "  'pass': 'shan@123',\n",
       "  'bal': 20000,\n",
       "  'email': 'rmanish911@gmail.com'},\n",
       " 1003: {'name': 'shriya',\n",
       "  'email': 'shriyak23@gmail.com',\n",
       "  'pass': 'sh@123',\n",
       "  'bal': 10000}}"
      ]
     },
     "execution_count": 23,
     "metadata": {},
     "output_type": "execute_result"
    }
   ],
   "source": [
    "data"
   ]
  },
  {
   "cell_type": "code",
   "execution_count": 24,
   "id": "30b9fda9",
   "metadata": {},
   "outputs": [
    {
     "data": {
      "text/plain": [
       "dict_keys([1001, 1002, 1003])"
      ]
     },
     "execution_count": 24,
     "metadata": {},
     "output_type": "execute_result"
    }
   ],
   "source": [
    "data.keys()"
   ]
  },
  {
   "cell_type": "code",
   "execution_count": 26,
   "id": "04c47762",
   "metadata": {},
   "outputs": [
    {
     "data": {
      "text/plain": [
       "'sh@123'"
      ]
     },
     "execution_count": 26,
     "metadata": {},
     "output_type": "execute_result"
    }
   ],
   "source": [
    "data[1003]['pass']"
   ]
  },
  {
   "cell_type": "code",
   "execution_count": 29,
   "id": "87539994",
   "metadata": {},
   "outputs": [
    {
     "name": "stdout",
     "output_type": "stream",
     "text": [
      "                     Welcome to bank application                      \n",
      "\n",
      "                    1. Signup \t 2. Login \t 3. Exit                    \n",
      "\n",
      "enter your choice 1 | 2 | 3: 2\n",
      "Enter your account number: 1003\n",
      "Enter your password: ········\n",
      "wrong password\n"
     ]
    }
   ],
   "source": [
    "main()"
   ]
  },
  {
   "cell_type": "code",
   "execution_count": 9,
   "id": "0264aac2",
   "metadata": {},
   "outputs": [
    {
     "name": "stdout",
     "output_type": "stream",
     "text": [
      "                     Welcome to bank application                      \n",
      "\n",
      "                    1. Signup \t 2. Login \t 3. Exit                    \n",
      "\n",
      "enter your choice 1 | 2 | 3: 1\n",
      "Enter your name: tarun\n",
      "enter your password········\n",
      "Enter email: trp229@gmail.com\n",
      "Enter otp: 3400\n",
      "account created\n",
      "\n",
      "your account number is 1003 now you can login\n"
     ]
    }
   ],
   "source": [
    "main()"
   ]
  },
  {
   "cell_type": "code",
   "execution_count": 17,
   "id": "817789a4",
   "metadata": {},
   "outputs": [
    {
     "data": {
      "text/plain": [
       "{1001: {'name': 'manish',\n",
       "  'pass': 'mann@123',\n",
       "  'bal': 10000,\n",
       "  'email': 'rmanish911@gmail.com'},\n",
       " 1002: {'name': 'shan',\n",
       "  'pass': 'shan@123',\n",
       "  'bal': 20000,\n",
       "  'email': 'rmanish911@gmail.com'},\n",
       " 1003: {'name': 'tarun',\n",
       "  'email': 'trp229@gmail.com',\n",
       "  'pass': 'trp@123',\n",
       "  'bal': 55000}}"
      ]
     },
     "execution_count": 17,
     "metadata": {},
     "output_type": "execute_result"
    }
   ],
   "source": [
    "data\n"
   ]
  },
  {
   "cell_type": "code",
   "execution_count": 18,
   "id": "97e167fc",
   "metadata": {},
   "outputs": [
    {
     "name": "stdout",
     "output_type": "stream",
     "text": [
      "                     Welcome to bank application                      \n",
      "\n",
      "                    1. Signup \t 2. Login \t 3. Exit                    \n",
      "\n",
      "enter your choice 1 | 2 | 3: 3\n"
     ]
    },
    {
     "ename": "SystemExit",
     "evalue": "",
     "output_type": "error",
     "traceback": [
      "An exception has occurred, use %tb to see the full traceback.\n",
      "\u001b[1;31mSystemExit\u001b[0m\n"
     ]
    },
    {
     "name": "stderr",
     "output_type": "stream",
     "text": [
      "c:\\users\\rmani\\appdata\\local\\programs\\python\\python36-32\\lib\\site-packages\\IPython\\core\\interactiveshell.py:3351: UserWarning: To exit: use 'exit', 'quit', or Ctrl-D.\n",
      "  warn(\"To exit: use 'exit', 'quit', or Ctrl-D.\", stacklevel=1)\n"
     ]
    }
   ],
   "source": [
    "main()"
   ]
  },
  {
   "cell_type": "code",
   "execution_count": null,
   "id": "13eabc5c",
   "metadata": {},
   "outputs": [],
   "source": []
  }
 ],
 "metadata": {
  "kernelspec": {
   "display_name": "Python 3",
   "language": "python",
   "name": "python3"
  },
  "language_info": {
   "codemirror_mode": {
    "name": "ipython",
    "version": 3
   },
   "file_extension": ".py",
   "mimetype": "text/x-python",
   "name": "python",
   "nbconvert_exporter": "python",
   "pygments_lexer": "ipython3",
   "version": "3.6.4"
  }
 },
 "nbformat": 4,
 "nbformat_minor": 5
}
