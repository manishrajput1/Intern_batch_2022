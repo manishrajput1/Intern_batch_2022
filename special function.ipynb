{
 "cells": [
  {
   "cell_type": "markdown",
   "id": "1914e79f",
   "metadata": {},
   "source": [
    "            Special functions:\n",
    "                Lambda \n",
    "                map\n",
    "                filter\n",
    "                "
   ]
  },
  {
   "cell_type": "code",
   "execution_count": 1,
   "id": "1b97c8fa",
   "metadata": {},
   "outputs": [],
   "source": [
    "# lambda --> inline function\n",
    "# syntax\n",
    "# lambda arguments:expression"
   ]
  },
  {
   "cell_type": "code",
   "execution_count": 2,
   "id": "034167be",
   "metadata": {},
   "outputs": [],
   "source": [
    "q=lambda x,y:(x+y)**2"
   ]
  },
  {
   "cell_type": "code",
   "execution_count": null,
   "id": "b70dcb1d",
   "metadata": {},
   "outputs": [],
   "source": []
  },
  {
   "cell_type": "code",
   "execution_count": null,
   "id": "072626a8",
   "metadata": {},
   "outputs": [],
   "source": []
  },
  {
   "cell_type": "code",
   "execution_count": 3,
   "id": "4e021bac",
   "metadata": {},
   "outputs": [
    {
     "data": {
      "text/plain": [
       "900"
      ]
     },
     "execution_count": 3,
     "metadata": {},
     "output_type": "execute_result"
    }
   ],
   "source": [
    "q(10,20)"
   ]
  },
  {
   "cell_type": "code",
   "execution_count": 4,
   "id": "13d45f3a",
   "metadata": {},
   "outputs": [],
   "source": [
    "d=lambda x: 'even' if x%2==0 else 'odd'"
   ]
  },
  {
   "cell_type": "code",
   "execution_count": 5,
   "id": "a7d04b99",
   "metadata": {},
   "outputs": [
    {
     "data": {
      "text/plain": [
       "'even'"
      ]
     },
     "execution_count": 5,
     "metadata": {},
     "output_type": "execute_result"
    }
   ],
   "source": [
    "d(10)"
   ]
  },
  {
   "cell_type": "code",
   "execution_count": 6,
   "id": "9f7b6ccf",
   "metadata": {},
   "outputs": [
    {
     "data": {
      "text/plain": [
       "'odd'"
      ]
     },
     "execution_count": 6,
     "metadata": {},
     "output_type": "execute_result"
    }
   ],
   "source": [
    "d(23)"
   ]
  },
  {
   "cell_type": "code",
   "execution_count": 8,
   "id": "eac33aee",
   "metadata": {},
   "outputs": [],
   "source": [
    "# map(function,iter)   # sequence---> str, tuple , list , range"
   ]
  },
  {
   "cell_type": "code",
   "execution_count": 9,
   "id": "384a1b69",
   "metadata": {},
   "outputs": [],
   "source": [
    "q=map(lambda x: x**2,range(10))"
   ]
  },
  {
   "cell_type": "code",
   "execution_count": 11,
   "id": "6bb2dbf1",
   "metadata": {},
   "outputs": [
    {
     "data": {
      "text/plain": [
       "[0, 1, 4, 9, 16, 25, 36, 49, 64, 81]"
      ]
     },
     "execution_count": 11,
     "metadata": {},
     "output_type": "execute_result"
    }
   ],
   "source": [
    "list(q)"
   ]
  },
  {
   "cell_type": "code",
   "execution_count": 12,
   "id": "396e4532",
   "metadata": {},
   "outputs": [],
   "source": [
    "def check_diabetes(a):\n",
    "    if a>72:\n",
    "        return \"yes\"\n",
    "    else:\n",
    "        return \"No\""
   ]
  },
  {
   "cell_type": "code",
   "execution_count": 13,
   "id": "a10e083d",
   "metadata": {},
   "outputs": [],
   "source": [
    "import random\n",
    "t=[random.randint(30,100) for i in range(20)]"
   ]
  },
  {
   "cell_type": "code",
   "execution_count": 15,
   "id": "93695485",
   "metadata": {},
   "outputs": [
    {
     "name": "stdout",
     "output_type": "stream",
     "text": [
      "[61, 48, 72, 31, 100, 73, 79, 61, 54, 77, 88, 54, 65, 33, 51, 58, 50, 62, 80, 93]\n"
     ]
    }
   ],
   "source": [
    "print(t)"
   ]
  },
  {
   "cell_type": "code",
   "execution_count": 16,
   "id": "27aec55f",
   "metadata": {},
   "outputs": [],
   "source": [
    "e=map(check_diabetes,t)"
   ]
  },
  {
   "cell_type": "code",
   "execution_count": 18,
   "id": "c13a602f",
   "metadata": {},
   "outputs": [
    {
     "name": "stdout",
     "output_type": "stream",
     "text": [
      "['No', 'No', 'No', 'No', 'yes', 'yes', 'yes', 'No', 'No', 'yes', 'yes', 'No', 'No', 'No', 'No', 'No', 'No', 'No', 'yes', 'yes']\n"
     ]
    }
   ],
   "source": [
    "print(list(e))"
   ]
  },
  {
   "cell_type": "code",
   "execution_count": 19,
   "id": "50a6297e",
   "metadata": {},
   "outputs": [],
   "source": [
    "l=['10','20','30','50']"
   ]
  },
  {
   "cell_type": "code",
   "execution_count": 22,
   "id": "cb4f1552",
   "metadata": {},
   "outputs": [
    {
     "data": {
      "text/plain": [
       "110"
      ]
     },
     "execution_count": 22,
     "metadata": {},
     "output_type": "execute_result"
    }
   ],
   "source": [
    "sum(list(map(int,l)))"
   ]
  },
  {
   "cell_type": "code",
   "execution_count": null,
   "id": "aa00a166",
   "metadata": {},
   "outputs": [],
   "source": []
  },
  {
   "cell_type": "code",
   "execution_count": 23,
   "id": "999d02b6",
   "metadata": {},
   "outputs": [],
   "source": [
    "# 0 to 100"
   ]
  },
  {
   "cell_type": "code",
   "execution_count": 26,
   "id": "acfb493d",
   "metadata": {},
   "outputs": [
    {
     "name": "stdout",
     "output_type": "stream",
     "text": [
      "[0, 5, 10, 15, 20, 25, 30, 35, 40, 45, 50, 55, 60, 65, 70, 75, 80, 85, 90, 95, 100]\n"
     ]
    }
   ],
   "source": [
    "print(list(filter(lambda x: x%5==0,range(101))))"
   ]
  },
  {
   "cell_type": "code",
   "execution_count": 33,
   "id": "7e543a1a",
   "metadata": {},
   "outputs": [
    {
     "name": "stdout",
     "output_type": "stream",
     "text": [
      "         * \n",
      "        * * \n",
      "       * * * \n",
      "      * * * * \n",
      "     * * * * * \n",
      "    * * * * * * \n",
      "   * * * * * * * \n",
      "  * * * * * * * * \n",
      " * * * * * * * * * \n"
     ]
    }
   ],
   "source": [
    "print(*map(lambda x: ' '*(10-x)+'* '*x,range(1,10)),sep='\\n')"
   ]
  },
  {
   "cell_type": "code",
   "execution_count": null,
   "id": "36a18e06",
   "metadata": {},
   "outputs": [],
   "source": []
  }
 ],
 "metadata": {
  "kernelspec": {
   "display_name": "Python 3 (ipykernel)",
   "language": "python",
   "name": "python3"
  },
  "language_info": {
   "codemirror_mode": {
    "name": "ipython",
    "version": 3
   },
   "file_extension": ".py",
   "mimetype": "text/x-python",
   "name": "python",
   "nbconvert_exporter": "python",
   "pygments_lexer": "ipython3",
   "version": "3.9.6"
  }
 },
 "nbformat": 4,
 "nbformat_minor": 5
}
