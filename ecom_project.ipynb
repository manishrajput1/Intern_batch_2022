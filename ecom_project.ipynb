{
 "cells": [
  {
   "cell_type": "code",
   "execution_count": 46,
   "id": "c954a4e5",
   "metadata": {},
   "outputs": [],
   "source": [
    "import random\n",
    "def otp():\n",
    "    ot=''\n",
    "    for i in range(4):\n",
    "        ot=ot+str(random.randint(0,9))\n",
    "    return ot"
   ]
  },
  {
   "cell_type": "code",
   "execution_count": 47,
   "id": "f68def69",
   "metadata": {},
   "outputs": [],
   "source": [
    "def Email(email,o):\n",
    "    import smtplib\n",
    "    con=smtplib.SMTP('smtp.gmail.com',587) # hostname ,port\n",
    "    con.starttls()\n",
    "    con.login('bankapplication7@gmail.com','Bankapp@')\n",
    "    con.sendmail('bankapplication7@gmail.com',email,f'Subject: OTP0\\n\\n {o}')\n",
    "    print('mail sent')\n",
    "    con.close()"
   ]
  },
  {
   "cell_type": "code",
   "execution_count": 48,
   "id": "600a0301",
   "metadata": {},
   "outputs": [],
   "source": [
    "import sys\n",
    "import time\n",
    "import json\n",
    "def main():\n",
    "    print('Welcome to ecommerce plateform........'.center(80))\n",
    "    print()\n",
    "    print('*'*78)\n",
    "    print('1. Signup\\t 2. Login \\t 3. Exit'.center(70))\n",
    "    print('*'*78)\n",
    "    print()\n",
    "    usrch=int(input('Enter your choice 1 | 2 | 3 : '))\n",
    "    if usrch==1:\n",
    "        Signup()\n",
    "    elif usrch==2:\n",
    "        Login()\n",
    "    elif usrch==3:\n",
    "        sys.exit()\n",
    "    else:\n",
    "        print('Invalid choice')\n",
    "        print()\n",
    "        print('redirecting.........')\n",
    "        time.sleep(2)\n",
    "        main()\n"
   ]
  },
  {
   "cell_type": "code",
   "execution_count": 54,
   "id": "c678c739",
   "metadata": {},
   "outputs": [],
   "source": [
    "from getpass import getpass\n",
    "fil=open('C:\\\\Users\\\\rmani\\\\Desktop\\\\userinfo.txt','r')\n",
    "data=json.load(fil)\n",
    "def Signup():\n",
    "    file=open('C:\\\\Users\\\\rmani\\\\Desktop\\\\userinfo.txt','w')\n",
    "    usrname=input('Enter username: ')\n",
    "    if usrname in data.keys():\n",
    "        print('username already exist....')\n",
    "        time.sleep(1)\n",
    "        Signup()\n",
    "    else:\n",
    "        password=getpass('enter password....')\n",
    "        email=input('enter email: ')\n",
    "        o=otp()\n",
    "        Email(email,o)\n",
    "        time.sleep(3)\n",
    "        print()\n",
    "        ot=input('Enter your otp: ')\n",
    "        if ot==o:\n",
    "            \n",
    "            data[usrname]={'pass':password,'email':email}\n",
    "            json.dump(data,file)\n",
    "            file.close()\n",
    "            print('your account has been created successfully....')\n",
    "        else:\n",
    "            print('invalud otp....')\n",
    "        \n",
    "\n",
    "    "
   ]
  },
  {
   "cell_type": "code",
   "execution_count": 53,
   "id": "f40756e0",
   "metadata": {},
   "outputs": [],
   "source": [
    "data={'rmanish':{'password':'rmanish','email':'rmanish911@gmail.com'}}\n",
    "fil=open('C:\\\\Users\\\\rmani\\\\Desktop\\\\userinfo.txt','w')\n",
    "json.dump(data,fil)\n",
    "fil.close()"
   ]
  },
  {
   "cell_type": "code",
   "execution_count": 55,
   "id": "916b24b5",
   "metadata": {},
   "outputs": [
    {
     "name": "stdout",
     "output_type": "stream",
     "text": [
      "                     Welcome to ecommerce plateform........                     \n",
      "\n",
      "******************************************************************************\n",
      "                    1. Signup\t 2. Login \t 3. Exit                     \n",
      "******************************************************************************\n",
      "\n",
      "Enter your choice 1 | 2 | 3 : 1\n",
      "Enter username: princepagi\n",
      "enter password....········\n",
      "enter email: rmanish911@gmail.com\n",
      "mail sent\n",
      "\n",
      "Enter your otp: 0650\n"
     ]
    },
    {
     "ename": "NameError",
     "evalue": "name 'd' is not defined",
     "output_type": "error",
     "traceback": [
      "\u001b[1;31m---------------------------------------------------------------------------\u001b[0m",
      "\u001b[1;31mNameError\u001b[0m                                 Traceback (most recent call last)",
      "\u001b[1;32m<ipython-input-55-263240bbee7e>\u001b[0m in \u001b[0;36m<module>\u001b[1;34m\u001b[0m\n\u001b[1;32m----> 1\u001b[1;33m \u001b[0mmain\u001b[0m\u001b[1;33m(\u001b[0m\u001b[1;33m)\u001b[0m\u001b[1;33m\u001b[0m\u001b[0m\n\u001b[0m",
      "\u001b[1;32m<ipython-input-48-4a2e6f01b785>\u001b[0m in \u001b[0;36mmain\u001b[1;34m()\u001b[0m\n\u001b[0;32m     11\u001b[0m     \u001b[0musrch\u001b[0m\u001b[1;33m=\u001b[0m\u001b[0mint\u001b[0m\u001b[1;33m(\u001b[0m\u001b[0minput\u001b[0m\u001b[1;33m(\u001b[0m\u001b[1;34m'Enter your choice 1 | 2 | 3 : '\u001b[0m\u001b[1;33m)\u001b[0m\u001b[1;33m)\u001b[0m\u001b[1;33m\u001b[0m\u001b[0m\n\u001b[0;32m     12\u001b[0m     \u001b[1;32mif\u001b[0m \u001b[0musrch\u001b[0m\u001b[1;33m==\u001b[0m\u001b[1;36m1\u001b[0m\u001b[1;33m:\u001b[0m\u001b[1;33m\u001b[0m\u001b[0m\n\u001b[1;32m---> 13\u001b[1;33m         \u001b[0mSignup\u001b[0m\u001b[1;33m(\u001b[0m\u001b[1;33m)\u001b[0m\u001b[1;33m\u001b[0m\u001b[0m\n\u001b[0m\u001b[0;32m     14\u001b[0m     \u001b[1;32melif\u001b[0m \u001b[0musrch\u001b[0m\u001b[1;33m==\u001b[0m\u001b[1;36m2\u001b[0m\u001b[1;33m:\u001b[0m\u001b[1;33m\u001b[0m\u001b[0m\n\u001b[0;32m     15\u001b[0m         \u001b[0mLogin\u001b[0m\u001b[1;33m(\u001b[0m\u001b[1;33m)\u001b[0m\u001b[1;33m\u001b[0m\u001b[0m\n",
      "\u001b[1;32m<ipython-input-54-baab8373ba44>\u001b[0m in \u001b[0;36mSignup\u001b[1;34m()\u001b[0m\n\u001b[0;32m     19\u001b[0m         \u001b[1;32mif\u001b[0m \u001b[0mot\u001b[0m\u001b[1;33m==\u001b[0m\u001b[0mo\u001b[0m\u001b[1;33m:\u001b[0m\u001b[1;33m\u001b[0m\u001b[0m\n\u001b[0;32m     20\u001b[0m \u001b[1;33m\u001b[0m\u001b[0m\n\u001b[1;32m---> 21\u001b[1;33m             \u001b[0md\u001b[0m\u001b[1;33m[\u001b[0m\u001b[0musrname\u001b[0m\u001b[1;33m]\u001b[0m\u001b[1;33m=\u001b[0m\u001b[1;33m{\u001b[0m\u001b[1;34m'pass'\u001b[0m\u001b[1;33m:\u001b[0m\u001b[0mpassword\u001b[0m\u001b[1;33m,\u001b[0m\u001b[1;34m'email'\u001b[0m\u001b[1;33m:\u001b[0m\u001b[0memail\u001b[0m\u001b[1;33m}\u001b[0m\u001b[1;33m\u001b[0m\u001b[0m\n\u001b[0m\u001b[0;32m     22\u001b[0m             \u001b[0mjson\u001b[0m\u001b[1;33m.\u001b[0m\u001b[0mdump\u001b[0m\u001b[1;33m(\u001b[0m\u001b[0md\u001b[0m\u001b[1;33m,\u001b[0m\u001b[0mfile\u001b[0m\u001b[1;33m)\u001b[0m\u001b[1;33m\u001b[0m\u001b[0m\n\u001b[0;32m     23\u001b[0m             \u001b[0mfile\u001b[0m\u001b[1;33m.\u001b[0m\u001b[0mclose\u001b[0m\u001b[1;33m(\u001b[0m\u001b[1;33m)\u001b[0m\u001b[1;33m\u001b[0m\u001b[0m\n",
      "\u001b[1;31mNameError\u001b[0m: name 'd' is not defined"
     ]
    }
   ],
   "source": [
    "main()"
   ]
  },
  {
   "cell_type": "code",
   "execution_count": null,
   "id": "e1c55499",
   "metadata": {},
   "outputs": [],
   "source": []
  }
 ],
 "metadata": {
  "kernelspec": {
   "display_name": "Python 3",
   "language": "python",
   "name": "python3"
  },
  "language_info": {
   "codemirror_mode": {
    "name": "ipython",
    "version": 3
   },
   "file_extension": ".py",
   "mimetype": "text/x-python",
   "name": "python",
   "nbconvert_exporter": "python",
   "pygments_lexer": "ipython3",
   "version": "3.6.4"
  }
 },
 "nbformat": 4,
 "nbformat_minor": 5
}
