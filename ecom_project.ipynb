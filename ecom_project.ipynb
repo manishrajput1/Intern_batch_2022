{
 "cells": [
  {
   "cell_type": "code",
   "execution_count": 26,
   "id": "600a0301",
   "metadata": {},
   "outputs": [],
   "source": [
    "import sys\n",
    "import time\n",
    "def main():\n",
    "    print('Welcome to ecommerce plateform........'.center(80))\n",
    "    print()\n",
    "    print('*'*78)\n",
    "    print('1. Signup\\t 2. Login \\t 3. Exit'.center(70))\n",
    "    print('*'*78)\n",
    "    print()\n",
    "    usrch=int(input('Enter your choice 1 | 2 | 3 : '))\n",
    "    if usrch==1:\n",
    "        Signup()\n",
    "    elif usrch==2:\n",
    "        Login()\n",
    "    elif usrch==3:\n",
    "        sys.exit()\n",
    "    else:\n",
    "        print('Invalid choice')\n",
    "        print()\n",
    "        print('redirecting.........')\n",
    "        time.sleep(2)\n",
    "        main()\n"
   ]
  },
  {
   "cell_type": "code",
   "execution_count": 45,
   "id": "c678c739",
   "metadata": {},
   "outputs": [],
   "source": [
    "from getpass import getpass\n",
    "file=open('C:\\\\Users\\\\rmani\\\\Desktop\\\\userinfo.txt','r+')\n",
    "data=json.load(file)\n",
    "def Signup():\n",
    "    usrname=input('Enter username: ')\n",
    "    if usrname in data.keys():\n",
    "        print('username already exist....')\n",
    "        time.sleep(1)\n",
    "        Signup()\n",
    "    else:\n",
    "        password=getpass('enter password....')\n",
    "        email=input('enter email: ')\n",
    "        \n",
    "\n",
    "    "
   ]
  },
  {
   "cell_type": "code",
   "execution_count": 46,
   "id": "22578def",
   "metadata": {},
   "outputs": [
    {
     "name": "stdout",
     "output_type": "stream",
     "text": [
      "                     Welcome to ecommerce plateform........                     \n",
      "\n",
      "******************************************************************************\n",
      "                    1. Signup\t 2. Login \t 3. Exit                     \n",
      "******************************************************************************\n",
      "\n",
      "Enter your choice 1 | 2 | 3 : 1\n",
      "Enter username: rmanish\n",
      "username already exist....\n"
     ]
    }
   ],
   "source": [
    "main()"
   ]
  },
  {
   "cell_type": "code",
   "execution_count": 29,
   "id": "3594a253",
   "metadata": {},
   "outputs": [],
   "source": [
    "d={'rmanish':{'pass':'mann@123','email':'rmanish911@gmail.com'}}"
   ]
  },
  {
   "cell_type": "code",
   "execution_count": 35,
   "id": "966e4e03",
   "metadata": {},
   "outputs": [],
   "source": [
    "\n"
   ]
  },
  {
   "cell_type": "code",
   "execution_count": 36,
   "id": "412942f6",
   "metadata": {},
   "outputs": [],
   "source": [
    "import json"
   ]
  },
  {
   "cell_type": "code",
   "execution_count": 37,
   "id": "0a474509",
   "metadata": {},
   "outputs": [],
   "source": [
    "json.dump(d,file)"
   ]
  },
  {
   "cell_type": "code",
   "execution_count": 38,
   "id": "7573d474",
   "metadata": {},
   "outputs": [],
   "source": [
    "file.close()"
   ]
  },
  {
   "cell_type": "code",
   "execution_count": 39,
   "id": "8e64147b",
   "metadata": {},
   "outputs": [],
   "source": [
    "f=open('C:\\\\Users\\\\rmani\\\\Desktop\\\\userinfo.txt','r')"
   ]
  },
  {
   "cell_type": "code",
   "execution_count": 40,
   "id": "eb0ddae5",
   "metadata": {},
   "outputs": [],
   "source": [
    "data=json.load(f)"
   ]
  },
  {
   "cell_type": "code",
   "execution_count": 41,
   "id": "c3590102",
   "metadata": {},
   "outputs": [
    {
     "name": "stdout",
     "output_type": "stream",
     "text": [
      "{'rmanish': {'pass': 'mann@123', 'email': 'rmanish911@gmail.com'}}\n"
     ]
    }
   ],
   "source": [
    "print(data)"
   ]
  },
  {
   "cell_type": "code",
   "execution_count": 42,
   "id": "eda710ec",
   "metadata": {},
   "outputs": [
    {
     "data": {
      "text/plain": [
       "dict_keys(['rmanish'])"
      ]
     },
     "execution_count": 42,
     "metadata": {},
     "output_type": "execute_result"
    }
   ],
   "source": [
    "data.keys()"
   ]
  },
  {
   "cell_type": "code",
   "execution_count": 49,
   "id": "91de2b53",
   "metadata": {},
   "outputs": [],
   "source": [
    "import random\n",
    "def otp():\n",
    "    ot=''\n",
    "    for i in range(4):\n",
    "        ot=ot+str(random.randint(0,9))\n",
    "    return ot"
   ]
  },
  {
   "cell_type": "code",
   "execution_count": 57,
   "id": "d89374eb",
   "metadata": {},
   "outputs": [
    {
     "data": {
      "text/plain": [
       "'2636'"
      ]
     },
     "execution_count": 57,
     "metadata": {},
     "output_type": "execute_result"
    }
   ],
   "source": [
    "otp()"
   ]
  },
  {
   "cell_type": "code",
   "execution_count": 65,
   "id": "8b7c2996",
   "metadata": {},
   "outputs": [
    {
     "name": "stdout",
     "output_type": "stream",
     "text": [
      "mail sent\n"
     ]
    }
   ],
   "source": [
    "import smtplib\n",
    "o=otp()\n",
    "con=smtplib.SMTP('smtp.gmail.com',587) # hostname ,port\n",
    "con.starttls()\n",
    "con.login('bankapplication7@gmail.com','Bankapp@')\n",
    "con.sendmail('bankapplication7@gmail.com','princepagi16@gmail.com',f'Subject: OTP0\\n\\n {o}')\n",
    "print('mail sent')\n",
    "con.close()"
   ]
  },
  {
   "cell_type": "code",
   "execution_count": 63,
   "id": "71d11ae3",
   "metadata": {},
   "outputs": [
    {
     "data": {
      "text/plain": [
       "<smtplib.SMTP at 0x844bb0>"
      ]
     },
     "execution_count": 63,
     "metadata": {},
     "output_type": "execute_result"
    }
   ],
   "source": [
    "con"
   ]
  },
  {
   "cell_type": "code",
   "execution_count": null,
   "id": "a75bd79f",
   "metadata": {},
   "outputs": [],
   "source": []
  }
 ],
 "metadata": {
  "kernelspec": {
   "display_name": "Python 3",
   "language": "python",
   "name": "python3"
  },
  "language_info": {
   "codemirror_mode": {
    "name": "ipython",
    "version": 3
   },
   "file_extension": ".py",
   "mimetype": "text/x-python",
   "name": "python",
   "nbconvert_exporter": "python",
   "pygments_lexer": "ipython3",
   "version": "3.6.4"
  }
 },
 "nbformat": 4,
 "nbformat_minor": 5
}
